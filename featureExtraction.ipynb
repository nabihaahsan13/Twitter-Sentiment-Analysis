{
 "cells": [
  {
   "cell_type": "code",
   "execution_count": 1,
   "id": "b128e59c-da93-48b0-9d58-2dc1a7aaf227",
   "metadata": {},
   "outputs": [],
   "source": [
    "#Unigram and bigram code"
   ]
  },
  {
   "cell_type": "code",
   "execution_count": 2,
   "id": "b960774f-0617-4cc0-bdf0-c7844746a941",
   "metadata": {},
   "outputs": [
    {
     "name": "stderr",
     "output_type": "stream",
     "text": [
      "[nltk_data] Downloading package punkt to /Users/School/nltk_data...\n",
      "[nltk_data]   Package punkt is already up-to-date!\n",
      "[nltk_data] Downloading package stopwords to\n",
      "[nltk_data]     /Users/School/nltk_data...\n",
      "[nltk_data]   Package stopwords is already up-to-date!\n"
     ]
    }
   ],
   "source": [
    "import pandas as pd\n",
    "import matplotlib.pyplot as plt\n",
    "import nltk\n",
    "nltk.download('punkt')\n",
    "nltk.download('stopwords')\n",
    "from nltk.util import ngrams\n",
    "from nltk.tokenize import sent_tokenize, word_tokenize\n",
    "from nltk.corpus import stopwords\n",
    "from sklearn.feature_extraction.text import CountVectorizer\n",
    "import numpy as np\n",
    "from scipy import sparse\n",
    "from scipy.sparse import csc_matrix\n",
    "from scipy.sparse import random\n",
    "import math \n",
    "# import re"
   ]
  },
  {
   "cell_type": "code",
   "execution_count": 3,
   "id": "f50d7b12-59bf-49e2-a9a0-7369679859a1",
   "metadata": {},
   "outputs": [],
   "source": [
    "#Importing dataset\n",
    "trainDf = pd.read_csv('train_processed.csv', sep = ',')\n",
    "testDf = pd.read_csv('test_processed.csv', sep = ',')"
   ]
  },
  {
   "cell_type": "code",
   "execution_count": 4,
   "id": "21030b9f-893f-459b-8ef7-1dbea50f775e",
   "metadata": {},
   "outputs": [
    {
     "data": {
      "text/html": [
       "<div>\n",
       "<style scoped>\n",
       "    .dataframe tbody tr th:only-of-type {\n",
       "        vertical-align: middle;\n",
       "    }\n",
       "\n",
       "    .dataframe tbody tr th {\n",
       "        vertical-align: top;\n",
       "    }\n",
       "\n",
       "    .dataframe thead th {\n",
       "        text-align: right;\n",
       "    }\n",
       "</style>\n",
       "<table border=\"1\" class=\"dataframe\">\n",
       "  <thead>\n",
       "    <tr style=\"text-align: right;\">\n",
       "      <th></th>\n",
       "      <th>Unnamed: 0</th>\n",
       "      <th>0</th>\n",
       "      <th>1</th>\n",
       "      <th>0.1</th>\n",
       "    </tr>\n",
       "  </thead>\n",
       "  <tbody>\n",
       "    <tr>\n",
       "      <th>0</th>\n",
       "      <td>0</td>\n",
       "      <td>1</td>\n",
       "      <td>0</td>\n",
       "      <td>USER_MENTION when a father is dysfunctional an...</td>\n",
       "    </tr>\n",
       "    <tr>\n",
       "      <th>1</th>\n",
       "      <td>1</td>\n",
       "      <td>2</td>\n",
       "      <td>0</td>\n",
       "      <td>USER_MENTION USER_MENTION thanks for lyft cred...</td>\n",
       "    </tr>\n",
       "    <tr>\n",
       "      <th>2</th>\n",
       "      <td>2</td>\n",
       "      <td>3</td>\n",
       "      <td>0</td>\n",
       "      <td>bihday your majesty</td>\n",
       "    </tr>\n",
       "    <tr>\n",
       "      <th>3</th>\n",
       "      <td>3</td>\n",
       "      <td>4</td>\n",
       "      <td>0</td>\n",
       "      <td>model i love u take with u all the time in urð</td>\n",
       "    </tr>\n",
       "    <tr>\n",
       "      <th>4</th>\n",
       "      <td>4</td>\n",
       "      <td>5</td>\n",
       "      <td>0</td>\n",
       "      <td>factsguide society now motivation</td>\n",
       "    </tr>\n",
       "  </tbody>\n",
       "</table>\n",
       "</div>"
      ],
      "text/plain": [
       "   Unnamed: 0  0  1                                                0.1\n",
       "0           0  1  0  USER_MENTION when a father is dysfunctional an...\n",
       "1           1  2  0  USER_MENTION USER_MENTION thanks for lyft cred...\n",
       "2           2  3  0                                bihday your majesty\n",
       "3           3  4  0     model i love u take with u all the time in urð\n",
       "4           4  5  0                  factsguide society now motivation"
      ]
     },
     "execution_count": 4,
     "metadata": {},
     "output_type": "execute_result"
    }
   ],
   "source": [
    "trainDf.head()"
   ]
  },
  {
   "cell_type": "code",
   "execution_count": 5,
   "id": "66dab301-3af5-416c-bdd6-57c79642c714",
   "metadata": {},
   "outputs": [],
   "source": [
    "# c = trainDf[[\"0.1\"]]\n",
    "# c.head()"
   ]
  },
  {
   "cell_type": "code",
   "execution_count": 6,
   "id": "5ace1424-e580-4b90-828d-486cd0e6872e",
   "metadata": {},
   "outputs": [
    {
     "data": {
      "text/html": [
       "<div>\n",
       "<style scoped>\n",
       "    .dataframe tbody tr th:only-of-type {\n",
       "        vertical-align: middle;\n",
       "    }\n",
       "\n",
       "    .dataframe tbody tr th {\n",
       "        vertical-align: top;\n",
       "    }\n",
       "\n",
       "    .dataframe thead th {\n",
       "        text-align: right;\n",
       "    }\n",
       "</style>\n",
       "<table border=\"1\" class=\"dataframe\">\n",
       "  <thead>\n",
       "    <tr style=\"text-align: right;\">\n",
       "      <th></th>\n",
       "      <th>Unnamed: 0</th>\n",
       "      <th>0</th>\n",
       "      <th>1</th>\n",
       "      <th>0.1</th>\n",
       "    </tr>\n",
       "  </thead>\n",
       "  <tbody>\n",
       "    <tr>\n",
       "      <th>0</th>\n",
       "      <td>0</td>\n",
       "      <td>1</td>\n",
       "      <td>0</td>\n",
       "      <td>USER_MENTION when a father is dysfunctional an...</td>\n",
       "    </tr>\n",
       "    <tr>\n",
       "      <th>1</th>\n",
       "      <td>1</td>\n",
       "      <td>2</td>\n",
       "      <td>0</td>\n",
       "      <td>USER_MENTION USER_MENTION thanks for lyft cred...</td>\n",
       "    </tr>\n",
       "    <tr>\n",
       "      <th>2</th>\n",
       "      <td>2</td>\n",
       "      <td>3</td>\n",
       "      <td>0</td>\n",
       "      <td>bihday your majesty</td>\n",
       "    </tr>\n",
       "    <tr>\n",
       "      <th>3</th>\n",
       "      <td>3</td>\n",
       "      <td>4</td>\n",
       "      <td>0</td>\n",
       "      <td>model i love u take with u all the time in urð</td>\n",
       "    </tr>\n",
       "    <tr>\n",
       "      <th>4</th>\n",
       "      <td>4</td>\n",
       "      <td>5</td>\n",
       "      <td>0</td>\n",
       "      <td>factsguide society now motivation</td>\n",
       "    </tr>\n",
       "  </tbody>\n",
       "</table>\n",
       "</div>"
      ],
      "text/plain": [
       "   Unnamed: 0  0  1                                                0.1\n",
       "0           0  1  0  USER_MENTION when a father is dysfunctional an...\n",
       "1           1  2  0  USER_MENTION USER_MENTION thanks for lyft cred...\n",
       "2           2  3  0                                bihday your majesty\n",
       "3           3  4  0     model i love u take with u all the time in urð\n",
       "4           4  5  0                  factsguide society now motivation"
      ]
     },
     "execution_count": 6,
     "metadata": {},
     "output_type": "execute_result"
    }
   ],
   "source": [
    "tweetsTrain = pd.DataFrame(trainDf)\n",
    "tweetsTrain.head()"
   ]
  },
  {
   "cell_type": "code",
   "execution_count": 7,
   "id": "634130b5-4184-46a7-bb2b-ae4e11dd4b8b",
   "metadata": {},
   "outputs": [
    {
     "data": {
      "text/html": [
       "<div>\n",
       "<style scoped>\n",
       "    .dataframe tbody tr th:only-of-type {\n",
       "        vertical-align: middle;\n",
       "    }\n",
       "\n",
       "    .dataframe tbody tr th {\n",
       "        vertical-align: top;\n",
       "    }\n",
       "\n",
       "    .dataframe thead th {\n",
       "        text-align: right;\n",
       "    }\n",
       "</style>\n",
       "<table border=\"1\" class=\"dataframe\">\n",
       "  <thead>\n",
       "    <tr style=\"text-align: right;\">\n",
       "      <th></th>\n",
       "      <th>0</th>\n",
       "      <th>1</th>\n",
       "      <th>2</th>\n",
       "    </tr>\n",
       "  </thead>\n",
       "  <tbody>\n",
       "    <tr>\n",
       "      <th>0</th>\n",
       "      <td>1</td>\n",
       "      <td>0</td>\n",
       "      <td>USER_MENTION when a father is dysfunctional an...</td>\n",
       "    </tr>\n",
       "    <tr>\n",
       "      <th>1</th>\n",
       "      <td>2</td>\n",
       "      <td>0</td>\n",
       "      <td>USER_MENTION USER_MENTION thanks for lyft cred...</td>\n",
       "    </tr>\n",
       "    <tr>\n",
       "      <th>2</th>\n",
       "      <td>3</td>\n",
       "      <td>0</td>\n",
       "      <td>bihday your majesty</td>\n",
       "    </tr>\n",
       "    <tr>\n",
       "      <th>3</th>\n",
       "      <td>4</td>\n",
       "      <td>0</td>\n",
       "      <td>model i love u take with u all the time in urð</td>\n",
       "    </tr>\n",
       "    <tr>\n",
       "      <th>4</th>\n",
       "      <td>5</td>\n",
       "      <td>0</td>\n",
       "      <td>factsguide society now motivation</td>\n",
       "    </tr>\n",
       "  </tbody>\n",
       "</table>\n",
       "</div>"
      ],
      "text/plain": [
       "   0  1                                                  2\n",
       "0  1  0  USER_MENTION when a father is dysfunctional an...\n",
       "1  2  0  USER_MENTION USER_MENTION thanks for lyft cred...\n",
       "2  3  0                                bihday your majesty\n",
       "3  4  0     model i love u take with u all the time in urð\n",
       "4  5  0                  factsguide society now motivation"
      ]
     },
     "execution_count": 7,
     "metadata": {},
     "output_type": "execute_result"
    }
   ],
   "source": [
    "trainTweetsProc = [] # Creating an empty list to store the data set above.\n",
    "i = 0\n",
    "while i < tweetsTrain.shape[0]:\n",
    "    trainTweetsProc.append([tweetsTrain.iloc[i,1], tweetsTrain.iloc[i,2], tweetsTrain.iloc[i,3]]) # Adds each row to the list, excluding the first column of the data set.\n",
    "    i += 1\n",
    "\n",
    "trainTweetsP = pd.DataFrame(trainTweetsProc) # Casts the list to a data frame, which is cleaned.\n",
    "trainTweetsP.head()"
   ]
  },
  {
   "cell_type": "code",
   "execution_count": 8,
   "id": "4fb64a33-988f-4888-8b28-585a11ceb6d9",
   "metadata": {},
   "outputs": [
    {
     "data": {
      "text/html": [
       "<div>\n",
       "<style scoped>\n",
       "    .dataframe tbody tr th:only-of-type {\n",
       "        vertical-align: middle;\n",
       "    }\n",
       "\n",
       "    .dataframe tbody tr th {\n",
       "        vertical-align: top;\n",
       "    }\n",
       "\n",
       "    .dataframe thead th {\n",
       "        text-align: right;\n",
       "    }\n",
       "</style>\n",
       "<table border=\"1\" class=\"dataframe\">\n",
       "  <thead>\n",
       "    <tr style=\"text-align: right;\">\n",
       "      <th></th>\n",
       "      <th>2</th>\n",
       "    </tr>\n",
       "  </thead>\n",
       "  <tbody>\n",
       "    <tr>\n",
       "      <th>0</th>\n",
       "      <td>USER_MENTION when a father is dysfunctional an...</td>\n",
       "    </tr>\n",
       "    <tr>\n",
       "      <th>1</th>\n",
       "      <td>USER_MENTION USER_MENTION thanks for lyft cred...</td>\n",
       "    </tr>\n",
       "    <tr>\n",
       "      <th>2</th>\n",
       "      <td>bihday your majesty</td>\n",
       "    </tr>\n",
       "    <tr>\n",
       "      <th>3</th>\n",
       "      <td>model i love u take with u all the time in urð</td>\n",
       "    </tr>\n",
       "    <tr>\n",
       "      <th>4</th>\n",
       "      <td>factsguide society now motivation</td>\n",
       "    </tr>\n",
       "  </tbody>\n",
       "</table>\n",
       "</div>"
      ],
      "text/plain": [
       "                                                   2\n",
       "0  USER_MENTION when a father is dysfunctional an...\n",
       "1  USER_MENTION USER_MENTION thanks for lyft cred...\n",
       "2                                bihday your majesty\n",
       "3     model i love u take with u all the time in urð\n",
       "4                  factsguide society now motivation"
      ]
     },
     "execution_count": 8,
     "metadata": {},
     "output_type": "execute_result"
    }
   ],
   "source": [
    "tweetsTraining = trainTweetsP[[2]] # Extracts the tweets column from the clean data frame above.\n",
    "tweetsTraining.head()"
   ]
  },
  {
   "cell_type": "code",
   "execution_count": 9,
   "id": "78e47bbc-d483-4c05-824a-53cbe9565d3c",
   "metadata": {},
   "outputs": [],
   "source": [
    "tweetTrainingList = [] # Creating an empty list to store the tweets.\n",
    "i = 0\n",
    "while i < tweetsTraining.shape[0]:\n",
    "    tweetTrainingList.append(tweetsTraining.iloc[i,0]) # Adds each tweet to the list.\n",
    "    i += 1"
   ]
  },
  {
   "cell_type": "code",
   "execution_count": 10,
   "id": "bc736470-66f5-46a9-a9bf-a2761d11ccb1",
   "metadata": {},
   "outputs": [],
   "source": [
    "stringOfTrainTweets = \" \".join(tweetTrainingList) # Joins the tweets"
   ]
  },
  {
   "cell_type": "code",
   "execution_count": 11,
   "id": "6bd6e4d6-1487-4e25-a2c7-e6c3ffd5060b",
   "metadata": {},
   "outputs": [],
   "source": [
    "stopWords = set(stopwords.words('english'))\n",
    "tokens = word_tokenize(stringOfTrainTweets)\n",
    "wordsFiltered = []\n",
    "\n",
    "for w in tokens:\n",
    "    if w not in stopWords:\n",
    "        wordsFiltered.append(w)"
   ]
  },
  {
   "cell_type": "code",
   "execution_count": 12,
   "id": "3b04760d-e362-4c3f-8e22-caaff1d6cdb0",
   "metadata": {},
   "outputs": [],
   "source": [
    "#Creating Unigram"
   ]
  },
  {
   "cell_type": "code",
   "execution_count": 13,
   "id": "42046786-5924-4598-9cac-5a5d80e79512",
   "metadata": {},
   "outputs": [
    {
     "data": {
      "image/png": "[encoded data removed]",
      "text/plain": [
       "<Figure size 432x288 with 1 Axes>"
      ]
     },
     "metadata": {
      "needs_background": "light"
     },
     "output_type": "display_data"
    },
    {
     "data": {
      "text/plain": [
       "<AxesSubplot:xlabel='Samples', ylabel='Counts'>"
      ]
     },
     "execution_count": 13,
     "metadata": {},
     "output_type": "execute_result"
    }
   ],
   "source": [
    "#Plotting unigram\n",
    "# r = trainDf[[\"0.1\"]]\n",
    "# trainDf_string = trainDf.to_string()\n",
    "#creating tokens\n",
    "# tokens = word_tokenize(stringOfTrainTweets)\n",
    "vocab = set(wordsFiltered)\n",
    "frequencyDist = nltk.FreqDist(wordsFiltered)\n",
    "data = sorted(frequencyDist,key=frequencyDist.__getitem__, reverse=True)\n",
    "data[0:20]\n",
    "frequencyDist.plot(20, cumulative=False)"
   ]
  },
  {
   "cell_type": "code",
   "execution_count": 14,
   "id": "f1502b3b-7dea-4d1f-ac8d-6e327541f193",
   "metadata": {},
   "outputs": [
    {
     "data": {
      "text/plain": [
       "41435"
      ]
     },
     "execution_count": 14,
     "metadata": {},
     "output_type": "execute_result"
    }
   ],
   "source": [
    "len(vocab) \n",
    "# Proportionally number of sparse vector = 3440\n",
    "# Number of dense vector = 20,650"
   ]
  },
  {
   "cell_type": "code",
   "execution_count": 15,
   "id": "c0d530df-8411-4272-ac6c-d1a6260e2933",
   "metadata": {},
   "outputs": [
    {
     "data": {
      "text/plain": [
       "['USER_MENTION',\n",
       " 'love',\n",
       " 'day',\n",
       " 'happy',\n",
       " 'amp',\n",
       " 'im',\n",
       " 'u',\n",
       " 'time',\n",
       " 'life',\n",
       " 'like']"
      ]
     },
     "execution_count": 15,
     "metadata": {},
     "output_type": "execute_result"
    }
   ],
   "source": [
    "sparseVector = data[0:3430]\n",
    "denseVector = data[0:20580]\n",
    "denseVector[0:10]"
   ]
  },
  {
   "cell_type": "code",
   "execution_count": 16,
   "id": "e61bf2f5-55b0-4838-b9cf-fede7c6f5462",
   "metadata": {},
   "outputs": [],
   "source": [
    "output = []\n",
    "i = 0\n",
    "while i < len(tweetTrainingList):\n",
    "    tokens1 = word_tokenize(tweetTrainingList[i])\n",
    "    tweetFil = []\n",
    "    for w in tokens1:\n",
    "        if w not in stopWords:\n",
    "            tweetFil.append(w)\n",
    "    output.extend(list(ngrams(tweetFil, 2)))\n",
    "    i += 1"
   ]
  },
  {
   "cell_type": "code",
   "execution_count": 17,
   "id": "7e01bd77-c923-491a-a589-9ca9ac95aa6f",
   "metadata": {},
   "outputs": [],
   "source": [
    "# a = \"the weather today is pleasant\"\n",
    "# b = a.split(\" \")\n",
    "# print(b)"
   ]
  },
  {
   "cell_type": "code",
   "execution_count": 18,
   "id": "2fc3084b-2330-415c-992f-da023ba70922",
   "metadata": {},
   "outputs": [],
   "source": [
    "# output = []\n",
    "# i = 0\n",
    "# while i < len(tweetTrainingList):\n",
    "#     tokens = [token for token in tweetTrainingList[i].split(\" \") if token != \"\"]\n",
    "#     output.extend(list(ngrams(tokens, 2)))\n",
    "#     i += 1"
   ]
  },
  {
   "cell_type": "code",
   "execution_count": 19,
   "id": "f0c0d38a-151d-42f2-9e8a-62eb767f21d8",
   "metadata": {},
   "outputs": [
    {
     "data": {
      "text/plain": [
       "[('USER_MENTION', 'father'),\n",
       " ('father', 'dysfunctional'),\n",
       " ('dysfunctional', 'selfish'),\n",
       " ('selfish', 'drags'),\n",
       " ('drags', 'kids'),\n",
       " ('kids', 'dysfunction'),\n",
       " ('dysfunction', 'run'),\n",
       " ('USER_MENTION', 'USER_MENTION'),\n",
       " ('USER_MENTION', 'thanks'),\n",
       " ('thanks', 'lyft')]"
      ]
     },
     "execution_count": 19,
     "metadata": {},
     "output_type": "execute_result"
    }
   ],
   "source": [
    "output[0:10]"
   ]
  },
  {
   "cell_type": "code",
   "execution_count": 20,
   "id": "66f1735f-a2ae-4613-8ff0-168015d70d48",
   "metadata": {},
   "outputs": [
    {
     "data": {
      "text/plain": [
       "[('USER_MENTION', 'USER_MENTION'),\n",
       " ('fathers', 'day'),\n",
       " ('thankful', 'positive'),\n",
       " ('positive', 'affirmation'),\n",
       " ('love', 'u'),\n",
       " ('cant', 'wait'),\n",
       " ('u', 'take'),\n",
       " ('take', 'u'),\n",
       " ('u', 'time'),\n",
       " ('model', 'love'),\n",
       " ('time', 'urð'),\n",
       " ('i_am', 'positive'),\n",
       " ('blog', 'silver'),\n",
       " ('silver', 'gold'),\n",
       " ('gold', 'forex'),\n",
       " ('altwaystoheal', 'healthy'),\n",
       " ('via', 'USER_MENTION'),\n",
       " ('polar', 'bear'),\n",
       " ('whatever', 'want'),\n",
       " ('bull', 'dominate')]"
      ]
     },
     "execution_count": 20,
     "metadata": {},
     "output_type": "execute_result"
    }
   ],
   "source": [
    "bigrams = set(output)\n",
    "frequency_dist = nltk.FreqDist(output)\n",
    "data1 = sorted(frequency_dist,key=frequency_dist.__getitem__, reverse=True)\n",
    "data1[0:20]"
   ]
  },
  {
   "cell_type": "code",
   "execution_count": 21,
   "id": "624fd977-2ddb-48ac-ba37-0a3442452e3b",
   "metadata": {},
   "outputs": [
    {
     "data": {
      "text/plain": [
       "161278"
      ]
     },
     "execution_count": 21,
     "metadata": {},
     "output_type": "execute_result"
    }
   ],
   "source": [
    "len(data1)"
   ]
  },
  {
   "cell_type": "code",
   "execution_count": 22,
   "id": "c7a287c0-9297-4304-8494-c633d422a460",
   "metadata": {},
   "outputs": [
    {
     "data": {
      "text/plain": [
       "161278"
      ]
     },
     "execution_count": 22,
     "metadata": {},
     "output_type": "execute_result"
    }
   ],
   "source": [
    "len(bigrams)"
   ]
  },
  {
   "cell_type": "code",
   "execution_count": 23,
   "id": "149c76d2-b9a0-4c39-8e5b-f723393908f1",
   "metadata": {},
   "outputs": [
    {
     "data": {
      "text/plain": [
       "[('USER_MENTION', 'USER_MENTION'),\n",
       " ('fathers', 'day'),\n",
       " ('thankful', 'positive'),\n",
       " ('positive', 'affirmation'),\n",
       " ('love', 'u'),\n",
       " ('cant', 'wait'),\n",
       " ('u', 'take'),\n",
       " ('take', 'u'),\n",
       " ('u', 'time'),\n",
       " ('model', 'love')]"
      ]
     },
     "execution_count": 23,
     "metadata": {},
     "output_type": "execute_result"
    }
   ],
   "source": [
    "bigramsVocab = data1[0:830]\n",
    "bigramsVocab[0:10]"
   ]
  },
  {
   "cell_type": "code",
   "execution_count": 24,
   "id": "3513aad3-4750-4019-b3c4-239c8898a0e0",
   "metadata": {},
   "outputs": [
    {
     "data": {
      "image/png": "[encoded data removed]",
      "text/plain": [
       "<Figure size 432x288 with 1 Axes>"
      ]
     },
     "metadata": {
      "needs_background": "light"
     },
     "output_type": "display_data"
    },
    {
     "data": {
      "text/plain": [
       "<AxesSubplot:xlabel='Samples', ylabel='Counts'>"
      ]
     },
     "execution_count": 24,
     "metadata": {},
     "output_type": "execute_result"
    }
   ],
   "source": [
    "frequency_dist.plot(20, cumulative=False)"
   ]
  },
  {
   "cell_type": "code",
   "execution_count": 25,
   "id": "23faefb2-b17f-47c3-b0d3-0b29c3033ace",
   "metadata": {},
   "outputs": [
    {
     "data": {
      "text/plain": [
       "CountVectorizer()"
      ]
     },
     "execution_count": 25,
     "metadata": {},
     "output_type": "execute_result"
    }
   ],
   "source": [
    "vectorizer = CountVectorizer()\n",
    ">>> vectorizer   "
   ]
  },
  {
   "cell_type": "code",
   "execution_count": 26,
   "id": "5cee8742-a5f3-4111-a91c-185310477984",
   "metadata": {},
   "outputs": [
    {
     "data": {
      "text/plain": [
       "'i will never msg him first if he dun msg me firstdisappointed'"
      ]
     },
     "execution_count": 26,
     "metadata": {},
     "output_type": "execute_result"
    }
   ],
   "source": [
    "tweetTrainingList[30000]"
   ]
  },
  {
   "cell_type": "code",
   "execution_count": 27,
   "id": "d60ab669-a0bc-48fd-9a01-15288ca28dfa",
   "metadata": {},
   "outputs": [],
   "source": [
    "tweetListFiltered = []\n",
    "for element in tweetTrainingList:\n",
    "    words = word_tokenize(element)\n",
    "    wordsFiltered = []\n",
    "\n",
    "    for w in words:\n",
    "        if w not in stopWords:\n",
    "            wordsFiltered.append(w)\n",
    "    tweetListFiltered.append(\" \".join(wordsFiltered))"
   ]
  },
  {
   "cell_type": "code",
   "execution_count": 28,
   "id": "ca9d24aa-2e2a-4dd5-b9ce-03efe1e205e6",
   "metadata": {},
   "outputs": [
    {
     "data": {
      "text/plain": [
       "'never msg first dun msg firstdisappointed'"
      ]
     },
     "execution_count": 28,
     "metadata": {},
     "output_type": "execute_result"
    }
   ],
   "source": [
    "tweetListFiltered[30000]"
   ]
  },
  {
   "cell_type": "code",
   "execution_count": 29,
   "id": "1631c5c6-3da9-4382-924b-588893aadc83",
   "metadata": {},
   "outputs": [
    {
     "name": "stdout",
     "output_type": "stream",
     "text": [
      "[ 7  9 11 13 15]\n"
     ]
    }
   ],
   "source": [
    "a = np.array([1,2,3,4,5])\n",
    "b = np.array([6,7,8,9,10])\n",
    "print(a+b)"
   ]
  },
  {
   "cell_type": "code",
   "execution_count": 30,
   "id": "b5415675-faa6-45df-9f9a-7828c71f503b",
   "metadata": {},
   "outputs": [
    {
     "data": {
      "text/plain": [
       "array([[0, 0, 0, 0],\n",
       "       [0, 0, 0, 0],\n",
       "       [0, 0, 0, 0]], dtype=int8)"
      ]
     },
     "execution_count": 30,
     "metadata": {},
     "output_type": "execute_result"
    }
   ],
   "source": [
    "csc_matrix((3, 4), dtype=np.int8).toarray()"
   ]
  },
  {
   "cell_type": "code",
   "execution_count": 31,
   "id": "31fc3be0-b904-4cca-bafd-7d3dd6140a73",
   "metadata": {},
   "outputs": [],
   "source": [
    "def get_sparse_size(matrix):\n",
    "    # get size of a sparse matrix\n",
    "    return int((matrix.data.nbytes + matrix.indptr.nbytes + matrix.indices.nbytes) / 1024.)"
   ]
  },
  {
   "cell_type": "code",
   "execution_count": 32,
   "id": "4579a07c-8415-48b5-921e-b1252ebfdf26",
   "metadata": {},
   "outputs": [],
   "source": [
    "# create a sparse matrix, 1000 x 100000\n",
    "sparse_mat = random(10 ** 3, 10 ** 5, format='csr')"
   ]
  },
  {
   "cell_type": "code",
   "execution_count": 33,
   "id": "1aa4cb9f-b92f-449b-84fd-1ef70afcc49a",
   "metadata": {},
   "outputs": [],
   "source": [
    "# get size of a sparse matrix\n",
    "sparse_size = get_sparse_size(sparse_mat)"
   ]
  },
  {
   "cell_type": "code",
   "execution_count": 34,
   "id": "0d5fada9-a950-4068-b13f-b77b01108d11",
   "metadata": {},
   "outputs": [],
   "source": [
    "# convert sparse matrix to a regular matrix and get its size\n",
    "regular_size = sparse_mat.toarray().nbytes / 1024."
   ]
  },
  {
   "cell_type": "code",
   "execution_count": 35,
   "id": "9f41372c-a15d-41a3-97af-bc5788cffe33",
   "metadata": {},
   "outputs": [
    {
     "name": "stdout",
     "output_type": "stream",
     "text": [
      "The size of sparse matrix is 11722 KiB\n",
      "The size of regular matrix is 781250.0 KiB\n",
      "Data compression ratio is 66.6481829039413\n"
     ]
    }
   ],
   "source": [
    "print(\"The size of sparse matrix is %s KiB\" % sparse_size)\n",
    "print(\"The size of regular matrix is %s KiB\" % regular_size)\n",
    "print(\"Data compression ratio is %s\" % (regular_size / sparse_size))"
   ]
  },
  {
   "cell_type": "code",
   "execution_count": 36,
   "id": "2016e472-247d-4cda-98be-721740602387",
   "metadata": {},
   "outputs": [
    {
     "data": {
      "text/plain": [
       "array([[0.        , 0.08833981, 0.16911084],\n",
       "       [0.        , 0.        , 0.        ],\n",
       "       [0.19806286, 0.76053071, 0.22479665]])"
      ]
     },
     "execution_count": 36,
     "metadata": {},
     "output_type": "execute_result"
    }
   ],
   "source": [
    "np.random.seed(10)\n",
    "matrix = random(3, 3, format='lil', density=0.6)\n",
    "matrix.toarray()"
   ]
  },
  {
   "cell_type": "code",
   "execution_count": 37,
   "id": "3aff4d26-0190-473a-bfd8-da7640cd947d",
   "metadata": {},
   "outputs": [
    {
     "data": {
      "text/plain": [
       "array([list([0.08833981417401027, 0.16911083656253545]), list([]),\n",
       "       list([0.19806286475962398, 0.7605307121989587, 0.22479664553084766])],\n",
       "      dtype=object)"
      ]
     },
     "execution_count": 37,
     "metadata": {},
     "output_type": "execute_result"
    }
   ],
   "source": [
    "matrix.data"
   ]
  },
  {
   "cell_type": "code",
   "execution_count": 38,
   "id": "6a2182b0-7b33-4a76-9b66-e2bb3bc6b8ff",
   "metadata": {},
   "outputs": [
    {
     "data": {
      "text/plain": [
       "array([list([1, 2]), list([]), list([0, 1, 2])], dtype=object)"
      ]
     },
     "execution_count": 38,
     "metadata": {},
     "output_type": "execute_result"
    }
   ],
   "source": [
    "matrix.rows"
   ]
  },
  {
   "cell_type": "code",
   "execution_count": 39,
   "id": "6b34f134-efe3-469e-bd13-64989519cd30",
   "metadata": {},
   "outputs": [],
   "source": [
    "def get_item(row_index, column_index, matrix):\n",
    "    row_values = matrix.data[row_index]\n",
    "    row_indices = matrix.rows[row_index]\n",
    "\n",
    "    value_index = row_indices.index(column_index)\n",
    "    if value_index >= 0:\n",
    "        return row_values[value_index]\n",
    "    else:\n",
    "        return 0"
   ]
  },
  {
   "cell_type": "code",
   "execution_count": 40,
   "id": "0df74f15-b858-4805-85ee-980910e0fd82",
   "metadata": {},
   "outputs": [
    {
     "name": "stdout",
     "output_type": "stream",
     "text": [
      "0.22479664553084766\n"
     ]
    }
   ],
   "source": [
    "print(matrix[2, 2])"
   ]
  },
  {
   "cell_type": "code",
   "execution_count": 41,
   "id": "ac0930e1-95dd-44a4-b44b-e5593cbf6bab",
   "metadata": {},
   "outputs": [
    {
     "data": {
      "text/plain": [
       "[1, 1, 1, 1, 1, 0]"
      ]
     },
     "execution_count": 41,
     "metadata": {},
     "output_type": "execute_result"
    }
   ],
   "source": [
    "corpus = [\n",
    "...     'this is the first document',\n",
    "...     'this is the second second document',\n",
    "...     'and the third one',\n",
    "...     'is this the first document',\n",
    "... ]\n",
    "    \n",
    "listOfTokens = ['this', 'is', 'the', 'first', 'first document', 'second document']\n",
    "[1,1,1,1,1,0]"
   ]
  },
  {
   "cell_type": "code",
   "execution_count": 42,
   "id": "c9305d5c-a5df-4829-9168-6e4d4a5424c3",
   "metadata": {},
   "outputs": [],
   "source": [
    "sparseVector.extend(bigramsVocab)"
   ]
  },
  {
   "cell_type": "code",
   "execution_count": 43,
   "id": "ee6bdbf2-cd52-4f98-92d8-600767eb57f7",
   "metadata": {},
   "outputs": [
    {
     "data": {
      "text/plain": [
       "[('fathers', 'day'),\n",
       " ('thankful', 'positive'),\n",
       " ('positive', 'affirmation'),\n",
       " ('love', 'u')]"
      ]
     },
     "execution_count": 43,
     "metadata": {},
     "output_type": "execute_result"
    }
   ],
   "source": [
    "sparseVector[3431:3435]"
   ]
  },
  {
   "cell_type": "code",
   "execution_count": 44,
   "id": "4dea3888-bdb9-4903-9145-19018de9df4f",
   "metadata": {},
   "outputs": [],
   "source": [
    "sparseVectorMod = sparseVector"
   ]
  },
  {
   "cell_type": "code",
   "execution_count": 45,
   "id": "6a541165-543c-42f3-8cf5-cddec82aef19",
   "metadata": {},
   "outputs": [],
   "source": [
    "i = 3430\n",
    "while i < len(sparseVectorMod):\n",
    "    element = \" \".join(sparseVectorMod[i])\n",
    "    sparseVectorMod[i] = element\n",
    "    i += 1"
   ]
  },
  {
   "cell_type": "code",
   "execution_count": 46,
   "id": "dabf9757-e9c8-4fb8-8742-2bbee77962ee",
   "metadata": {},
   "outputs": [
    {
     "data": {
      "text/plain": [
       "['fathers day', 'thankful positive', 'positive affirmation', 'love u']"
      ]
     },
     "execution_count": 46,
     "metadata": {},
     "output_type": "execute_result"
    }
   ],
   "source": [
    "sparseVectorMod[3431:3435]"
   ]
  },
  {
   "cell_type": "code",
   "execution_count": 47,
   "id": "8f42ecba-087e-4ca0-a4bf-77834ab0d9d1",
   "metadata": {},
   "outputs": [],
   "source": [
    "sparseVectorA = sparseVectorMod[0:3430]"
   ]
  },
  {
   "cell_type": "code",
   "execution_count": 48,
   "id": "475620cf-e01e-4dcf-b098-26f6ccfd92c8",
   "metadata": {},
   "outputs": [
    {
     "name": "stdout",
     "output_type": "stream",
     "text": [
      "USER_MENTION\n",
      "instalikeâ\n"
     ]
    }
   ],
   "source": [
    "print(sparseVectorA[0])\n",
    "print(sparseVectorA[3429])"
   ]
  },
  {
   "cell_type": "code",
   "execution_count": 49,
   "id": "df597ca9-86fc-4c40-afea-b6658baffc88",
   "metadata": {},
   "outputs": [],
   "source": [
    "sparseVectorB = sparseVectorMod[3430:4260]"
   ]
  },
  {
   "cell_type": "code",
   "execution_count": 50,
   "id": "ea484633-dfca-46fa-8960-cb8d1f62d2e7",
   "metadata": {},
   "outputs": [
    {
     "name": "stdout",
     "output_type": "stream",
     "text": [
      "USER_MENTION USER_MENTION\n",
      "love summer\n"
     ]
    }
   ],
   "source": [
    "print(sparseVectorB[0])\n",
    "print(sparseVectorB[829])"
   ]
  },
  {
   "cell_type": "code",
   "execution_count": 51,
   "id": "5a16a485-f13b-4320-9706-6fd2ef844296",
   "metadata": {},
   "outputs": [],
   "source": [
    "tweetVectors = []\n",
    "i = 0\n",
    "while i < len(tweetListFiltered):\n",
    "    tweetWords = tweetListFiltered[i].split()\n",
    "    vector = []\n",
    "    for element in sparseVectorA:\n",
    "        j = 0\n",
    "        k = 0\n",
    "        while j < len(tweetWords):\n",
    "            if tweetWords[j] == element:\n",
    "                k += 1\n",
    "            j += 1\n",
    "        vector.append(k)\n",
    "    for element in sparseVectorB:\n",
    "        bigramWords = element.split()\n",
    "        j = 0\n",
    "        k = 0\n",
    "        while j < len(tweetWords)-1:\n",
    "            if tweetWords[j] == bigramWords[0] and tweetWords[j+1] == bigramWords[1]:\n",
    "                k += 1\n",
    "            j += 1\n",
    "        vector.append(k)\n",
    "    tweetVectors.append(vector)\n",
    "    i += 1"
   ]
  },
  {
   "cell_type": "code",
   "execution_count": 52,
   "id": "ffa00ef3-4265-492a-84e3-6cb406242b46",
   "metadata": {},
   "outputs": [],
   "source": [
    "numTweetsWTerm = []\n",
    "for element in sparseVectorA:\n",
    "    m = 0\n",
    "    for tweet in tweetListFiltered:\n",
    "        tweetWords = tweet.split()\n",
    "        if element in tweetWords:\n",
    "            m += 1\n",
    "    numTweetsWTerm.append(m)\n",
    "for element in sparseVectorB:\n",
    "    m = 0\n",
    "    for tweet in tweetListFiltered:\n",
    "        tweetWords = tweet.split()\n",
    "        big = list(ngrams(tweetWords, 2))\n",
    "        bigrams = []\n",
    "        for part in big:\n",
    "            portion = \" \".join(part)\n",
    "            bigrams.append(portion)\n",
    "        if element in bigrams:\n",
    "            m += 1\n",
    "    numTweetsWTerm.append(m)"
   ]
  },
  {
   "cell_type": "code",
   "execution_count": 53,
   "id": "89a36347-a822-40c4-9d9c-38ec9737883d",
   "metadata": {},
   "outputs": [
    {
     "data": {
      "text/plain": [
       "4260"
      ]
     },
     "execution_count": 53,
     "metadata": {},
     "output_type": "execute_result"
    }
   ],
   "source": [
    "len(numTweetsWTerm)"
   ]
  },
  {
   "cell_type": "code",
   "execution_count": 54,
   "id": "e491a84b-49b4-4a20-b6b2-fdaf9704f8cd",
   "metadata": {},
   "outputs": [
    {
     "data": {
      "text/plain": [
       "[11098, 2515, 2062, 1593, 1428, 1077, 717, 1090, 1016, 994]"
      ]
     },
     "execution_count": 54,
     "metadata": {},
     "output_type": "execute_result"
    }
   ],
   "source": [
    "numTweetsWTerm[0:10]"
   ]
  },
  {
   "cell_type": "code",
   "execution_count": 55,
   "id": "719d54d8-7a8a-4e6b-8b1d-bce47017ec61",
   "metadata": {},
   "outputs": [
    {
     "data": {
      "text/plain": [
       "[12, 12, 12, 12, 12, 12, 12, 12, 12, 12]"
      ]
     },
     "execution_count": 55,
     "metadata": {},
     "output_type": "execute_result"
    }
   ],
   "source": [
    "numTweetsWTerm[4250:4260]"
   ]
  },
  {
   "cell_type": "code",
   "execution_count": 56,
   "id": "4ad067b6-f664-4958-ae15-0d7fd972c6a1",
   "metadata": {},
   "outputs": [],
   "source": [
    "tweetVectorsIDF = []\n",
    "for element in tweetVectors:\n",
    "    i = 0\n",
    "    vector = []\n",
    "    for piece in element:\n",
    "        term = math.log10((1+len(tweetListFiltered))/(1+numTweetsWTerm[i]))+1\n",
    "        newTerm = piece * term\n",
    "        vector.append(newTerm)\n",
    "        i += 1\n",
    "    tweetVectorsIDF.append(vector)"
   ]
  },
  {
   "cell_type": "code",
   "execution_count": 57,
   "id": "8b743692-26ad-4b0e-8f61-842d21eec857",
   "metadata": {},
   "outputs": [],
   "source": [
    "idfVectors = np.array(tweetVectorsIDF)"
   ]
  },
  {
   "cell_type": "code",
   "execution_count": 58,
   "id": "88642ff7-b0d8-48fc-9626-ccc2962bf84e",
   "metadata": {},
   "outputs": [],
   "source": [
    "tweetVectors1 = []\n",
    "for tweet in tweetListFiltered:\n",
    "    tweetWords = tweet.split()\n",
    "    bigr = list(ngrams(tweetWords, 2))\n",
    "    bigrams = []\n",
    "    for part in bigr:\n",
    "        portion = \" \".join(part)\n",
    "        bigrams.append(portion)\n",
    "    vector = []\n",
    "    for element in sparseVectorA:\n",
    "        if element in tweetWords:\n",
    "            k = 1\n",
    "        else:\n",
    "            k = 0\n",
    "        vector.append(k)\n",
    "    for element in sparseVectorB:\n",
    "        if element in bigrams:\n",
    "            k = 1\n",
    "        else:\n",
    "            k = 0\n",
    "        vector.append(k)\n",
    "    tweetVectors1.append(vector)\n"
   ]
  },
  {
   "cell_type": "code",
   "execution_count": 59,
   "id": "bbdc7e64-4c6a-432d-bb4d-b313b11911e3",
   "metadata": {},
   "outputs": [
    {
     "data": {
      "text/plain": [
       "31962"
      ]
     },
     "execution_count": 59,
     "metadata": {},
     "output_type": "execute_result"
    }
   ],
   "source": [
    "len(tweetVectors1)"
   ]
  },
  {
   "cell_type": "code",
   "execution_count": 60,
   "id": "f3614a7d-5283-45c5-b931-6f851beaad24",
   "metadata": {},
   "outputs": [
    {
     "data": {
      "text/plain": [
       "[0, 0, 0]"
      ]
     },
     "execution_count": 60,
     "metadata": {},
     "output_type": "execute_result"
    }
   ],
   "source": [
    "tweetVectors1[500][5:8]"
   ]
  },
  {
   "cell_type": "code",
   "execution_count": 61,
   "id": "885cabb0-36f1-4e46-8544-fd145c25082c",
   "metadata": {},
   "outputs": [
    {
     "data": {
      "text/plain": [
       "'today'"
      ]
     },
     "execution_count": 61,
     "metadata": {},
     "output_type": "execute_result"
    }
   ],
   "source": [
    "sparseVectorA[10]"
   ]
  },
  {
   "cell_type": "code",
   "execution_count": 62,
   "id": "38f767f9-a2e6-41c2-80d4-0bd1b8b019d6",
   "metadata": {},
   "outputs": [
    {
     "data": {
      "text/plain": [
       "572"
      ]
     },
     "execution_count": 62,
     "metadata": {},
     "output_type": "execute_result"
    }
   ],
   "source": [
    "sparseVectorA.index('talking')"
   ]
  },
  {
   "cell_type": "code",
   "execution_count": 63,
   "id": "499d3f17-5215-45cc-8607-c988f8aa57e3",
   "metadata": {},
   "outputs": [],
   "source": [
    "tweetVectorsA = np.array(tweetVectors1)"
   ]
  },
  {
   "cell_type": "code",
   "execution_count": 64,
   "id": "1a3ea5d7-5117-4693-9a96-e0cbbc9a1a57",
   "metadata": {},
   "outputs": [],
   "source": [
    "#Classification Techniques"
   ]
  },
  {
   "cell_type": "code",
   "execution_count": 65,
   "id": "756b07ab-c84b-4b18-99ad-cebae159f810",
   "metadata": {},
   "outputs": [],
   "source": [
    "#Decision Tree"
   ]
  },
  {
   "cell_type": "code",
   "execution_count": 66,
   "id": "e12125c9-72e0-4dcf-aaca-277a29a30828",
   "metadata": {},
   "outputs": [],
   "source": [
    "#Libraries\n",
    "import sklearn\n",
    "from sklearn.model_selection import train_test_split\n",
    "from sklearn.tree import DecisionTreeClassifier\n",
    "from sklearn.metrics import accuracy_score\n",
    "from sklearn import tree"
   ]
  },
  {
   "cell_type": "code",
   "execution_count": 67,
   "id": "26416633-f8ed-4c9e-8cb0-28333abb9853",
   "metadata": {},
   "outputs": [],
   "source": [
    "#Independent variable\n",
    "x = tweetVectorsA[0:25570]\n",
    "x1 = tweetVectorsA[25570:31962]\n",
    "xF = idfVectors[0:25570]\n",
    "xF1 = idfVectors[25570:31962]\n",
    "#Dependent variable\n",
    "y = trainTweetsP[1][0:25570].to_numpy() \n",
    "y1 = trainTweetsP[1][25570:31962].to_numpy() "
   ]
  },
  {
   "cell_type": "code",
   "execution_count": 68,
   "id": "a2a68f30-ca52-48ed-b3c7-abc45bd8630a",
   "metadata": {},
   "outputs": [],
   "source": [
    "X_train, X_test, Y_train, Y_test = train_test_split( x, \n",
    "                                                     y, \n",
    "                                                    test_size = 0.3, \n",
    "                                                    random_state = 100)"
   ]
  },
  {
   "cell_type": "code",
   "execution_count": 69,
   "id": "e6e71a4d-6eff-46f7-bed2-98671324cb0f",
   "metadata": {},
   "outputs": [],
   "source": [
    "#DT Classifier"
   ]
  },
  {
   "cell_type": "code",
   "execution_count": 70,
   "id": "8d84a9ac-34b2-462a-a50f-aa24b53f3111",
   "metadata": {},
   "outputs": [],
   "source": [
    "dtc_gini = DecisionTreeClassifier(criterion='gini',random_state=100, max_depth=5)"
   ]
  },
  {
   "cell_type": "code",
   "execution_count": 71,
   "id": "331d7dd2-a4bb-4ba0-b117-ee2e62e11c4a",
   "metadata": {},
   "outputs": [
    {
     "data": {
      "text/plain": [
       "DecisionTreeClassifier(max_depth=5, random_state=100)"
      ]
     },
     "execution_count": 71,
     "metadata": {},
     "output_type": "execute_result"
    }
   ],
   "source": [
    "dtc_gini.fit(xF,y)"
   ]
  },
  {
   "cell_type": "code",
   "execution_count": 72,
   "id": "b9c65516-1f7c-4bbc-8c63-8c24fea1f7d6",
   "metadata": {},
   "outputs": [],
   "source": [
    "Y_pred = dtc_gini.predict(xF1)"
   ]
  },
  {
   "cell_type": "code",
   "execution_count": 73,
   "id": "3677af02-c4d4-45f9-b534-a36229e8ee09",
   "metadata": {},
   "outputs": [
    {
     "data": {
      "text/plain": [
       "array([1, 0, 0, ..., 0, 0, 0])"
      ]
     },
     "execution_count": 73,
     "metadata": {},
     "output_type": "execute_result"
    }
   ],
   "source": [
    "Y_pred"
   ]
  },
  {
   "cell_type": "code",
   "execution_count": 74,
   "id": "a15402ea-a800-4dcd-9194-08b44ec0b79b",
   "metadata": {},
   "outputs": [
    {
     "name": "stdout",
     "output_type": "stream",
     "text": [
      "Accuracy of Decision Tree (gini index) on test data:  93.94555694618273\n"
     ]
    }
   ],
   "source": [
    "print(\"Accuracy of Decision Tree (gini index) on test data: \", accuracy_score(y1, Y_pred)*100)"
   ]
  },
  {
   "cell_type": "code",
   "execution_count": 75,
   "id": "973fe45a-3106-4d01-a84e-032d11a0214b",
   "metadata": {},
   "outputs": [],
   "source": [
    "#Conclusion: DTC accuracy is largely unaffected by different ratios for test and train data"
   ]
  },
  {
   "cell_type": "code",
   "execution_count": 76,
   "id": "650f0333-dde7-429c-8557-bf1b3381fb69",
   "metadata": {},
   "outputs": [],
   "source": [
    "#Random Forest Classifier"
   ]
  },
  {
   "cell_type": "code",
   "execution_count": 77,
   "id": "0626495e-ea96-46f0-b3f3-3e259b45d023",
   "metadata": {},
   "outputs": [
    {
     "data": {
      "text/plain": [
       "RandomForestClassifier(n_estimators=30)"
      ]
     },
     "execution_count": 77,
     "metadata": {},
     "output_type": "execute_result"
    }
   ],
   "source": [
    "from sklearn.ensemble import RandomForestClassifier\n",
    "model = RandomForestClassifier(n_estimators=30) #Using 30 random trees has given the best accuracy overall\n",
    "model.fit(xF, y)"
   ]
  },
  {
   "cell_type": "code",
   "execution_count": 78,
   "id": "61aacab4-06eb-4f89-aade-e6d15520a7e8",
   "metadata": {},
   "outputs": [
    {
     "data": {
      "text/plain": [
       "0.930647894668231"
      ]
     },
     "execution_count": 78,
     "metadata": {},
     "output_type": "execute_result"
    }
   ],
   "source": [
    "model.score(X_test,Y_test)"
   ]
  },
  {
   "cell_type": "code",
   "execution_count": 79,
   "id": "e66a0a36-8d93-4dea-853f-880cc46b0eab",
   "metadata": {},
   "outputs": [],
   "source": [
    "Y_predict = model.predict(xF1)"
   ]
  },
  {
   "cell_type": "code",
   "execution_count": 80,
   "id": "2f741648-308b-4278-88a8-4035b5400b64",
   "metadata": {},
   "outputs": [],
   "source": [
    "from sklearn.metrics import confusion_matrix\n",
    "cm = confusion_matrix(y1,Y_predict)"
   ]
  },
  {
   "cell_type": "code",
   "execution_count": 81,
   "id": "f358b5ff-cb7b-4f99-b30f-b6d703abf337",
   "metadata": {},
   "outputs": [],
   "source": [
    "import seaborn\n",
    "import matplotlib.pyplot as plt"
   ]
  },
  {
   "cell_type": "code",
   "execution_count": 82,
   "id": "a47dc48c-1c77-4bd7-bae8-aacc46ed8426",
   "metadata": {},
   "outputs": [
    {
     "data": {
      "text/plain": [
       "Text(33.0, 0.5, 'Truth')"
      ]
     },
     "execution_count": 82,
     "metadata": {},
     "output_type": "execute_result"
    },
    {
     "data": {
      "image/png": "[encoded data removed]",
      "text/plain": [
       "<Figure size 432x288 with 2 Axes>"
      ]
     },
     "metadata": {
      "needs_background": "light"
     },
     "output_type": "display_data"
    }
   ],
   "source": [
    "seaborn.heatmap(cm, annot=True)\n",
    "plt.xlabel('Predicted')\n",
    "plt.ylabel('Truth')"
   ]
  },
  {
   "cell_type": "code",
   "execution_count": 83,
   "id": "4e304a63-df83-48ba-a82b-1c33b4eec71c",
   "metadata": {},
   "outputs": [
    {
     "name": "stdout",
     "output_type": "stream",
     "text": [
      "Accuracy of Random Forest on Test data:  95.07196495619525\n"
     ]
    }
   ],
   "source": [
    "print(\"Accuracy of Random Forest on Test data: \", accuracy_score(y1, Y_predict)*100)"
   ]
  },
  {
   "cell_type": "code",
   "execution_count": 84,
   "id": "1d91284c-1eb6-45f8-ab1c-ae33b531812a",
   "metadata": {},
   "outputs": [],
   "source": [
    "#XGBoost Classifier"
   ]
  },
  {
   "cell_type": "code",
   "execution_count": 86,
   "id": "2b74e43c-bafe-47f8-9ae6-5496db94f25d",
   "metadata": {},
   "outputs": [],
   "source": [
    "#from xgboost import XGBClassifier"
   ]
  },
  {
   "cell_type": "code",
   "execution_count": 87,
   "id": "e59391f2-fae9-41a8-bf99-5e330b43c80e",
   "metadata": {},
   "outputs": [],
   "source": [
    "# Importing libraries for Naive Bayes Classification and for accuracy checking. \n",
    "from sklearn.naive_bayes import GaussianNB\n",
    "from sklearn.naive_bayes import MultinomialNB\n",
    "from sklearn.naive_bayes import BernoulliNB\n",
    "from sklearn.metrics import accuracy_score"
   ]
  },
  {
   "cell_type": "code",
   "execution_count": 88,
   "id": "9d190b63-3485-456f-9a05-84460d2f04ae",
   "metadata": {},
   "outputs": [],
   "source": [
    "# GaussianNB model\n",
    "model = GaussianNB()"
   ]
  },
  {
   "cell_type": "code",
   "execution_count": 89,
   "id": "5f4f5af4-82be-4f7b-a383-27bbee6c2e83",
   "metadata": {},
   "outputs": [],
   "source": [
    "# MultinomialNB model\n",
    "model1 = MultinomialNB()"
   ]
  },
  {
   "cell_type": "code",
   "execution_count": 90,
   "id": "e0fb58e6-f423-47cf-844f-7da537228901",
   "metadata": {},
   "outputs": [],
   "source": [
    "# BernoulliNB model\n",
    "model2 = BernoulliNB()"
   ]
  },
  {
   "cell_type": "code",
   "execution_count": 91,
   "id": "1638ac60-e74f-4a2a-97b3-aca059e03682",
   "metadata": {},
   "outputs": [],
   "source": [
    "# Setting the training data to be the tweet vectors for presence feature type. \n",
    "x2 = tweetVectorsA[0:25570]\n",
    "# Setting the corresponding sentiment label for each tweet vector.\n",
    "y2 = trainTweetsP[1][0:25570].to_numpy()"
   ]
  },
  {
   "cell_type": "code",
   "execution_count": 92,
   "id": "0622e36d-f41e-4be8-aa27-e93f19d9fd53",
   "metadata": {},
   "outputs": [
    {
     "data": {
      "text/plain": [
       "GaussianNB()"
      ]
     },
     "execution_count": 92,
     "metadata": {},
     "output_type": "execute_result"
    }
   ],
   "source": [
    "# Using GaussianNB model to train the training data and sentiment labels.\n",
    "model.fit(x2, y2)"
   ]
  },
  {
   "cell_type": "code",
   "execution_count": 93,
   "id": "20a52ffd-4429-4348-8e97-6cf6f74e9e9f",
   "metadata": {},
   "outputs": [],
   "source": [
    "# Using the GaussianNB model, after training, to predict the sentiment labels of test tweets, whose actual \n",
    "# sentiment labels are known.\n",
    "predicted6 = model.predict(tweetVectorsA[25570:31962])"
   ]
  },
  {
   "cell_type": "code",
   "execution_count": 94,
   "id": "d57ab930-b249-4ac1-82d1-b4b73619d5d4",
   "metadata": {},
   "outputs": [
    {
     "data": {
      "text/plain": [
       "78.95807259073842"
      ]
     },
     "execution_count": 94,
     "metadata": {},
     "output_type": "execute_result"
    }
   ],
   "source": [
    "# Checking the accuracy of the model, based on the percentage of test tweets whose sentiment labels were \n",
    "# accurately predicted.\n",
    "accuracy_score(trainTweetsP[1][25570:31962].to_numpy(), predicted6)*100"
   ]
  },
  {
   "cell_type": "code",
   "execution_count": 95,
   "id": "390bfc83-9bae-49bb-91aa-b949e1f704c1",
   "metadata": {},
   "outputs": [],
   "source": [
    "#MultinomialNB Model"
   ]
  },
  {
   "cell_type": "code",
   "execution_count": 96,
   "id": "35cbe653-fd0f-4038-a49e-dfca20f7113e",
   "metadata": {},
   "outputs": [
    {
     "data": {
      "text/plain": [
       "MultinomialNB()"
      ]
     },
     "execution_count": 96,
     "metadata": {},
     "output_type": "execute_result"
    }
   ],
   "source": [
    "model1.fit(x2, y2)"
   ]
  },
  {
   "cell_type": "code",
   "execution_count": 97,
   "id": "7ebb5b60-c152-4fb3-a7cc-35aeda5db0d8",
   "metadata": {},
   "outputs": [],
   "source": [
    "predicted7 = model1.predict(tweetVectorsA[25570:31962])"
   ]
  },
  {
   "cell_type": "code",
   "execution_count": 98,
   "id": "1f8142b4-aae8-46a8-961e-45da182e8135",
   "metadata": {},
   "outputs": [
    {
     "data": {
      "text/plain": [
       "94.50876095118899"
      ]
     },
     "execution_count": 98,
     "metadata": {},
     "output_type": "execute_result"
    }
   ],
   "source": [
    "accuracy_score(trainTweetsP[1][25570:31962].to_numpy(), predicted7)*100"
   ]
  },
  {
   "cell_type": "code",
   "execution_count": 99,
   "id": "1b6e159c-24cc-4829-a9b6-16c5af0f4b14",
   "metadata": {},
   "outputs": [],
   "source": [
    "#BernoulliNB Model"
   ]
  },
  {
   "cell_type": "code",
   "execution_count": 100,
   "id": "6a00547f-1e73-431e-b6cc-1f078309797f",
   "metadata": {},
   "outputs": [
    {
     "data": {
      "text/plain": [
       "BernoulliNB()"
      ]
     },
     "execution_count": 100,
     "metadata": {},
     "output_type": "execute_result"
    }
   ],
   "source": [
    "model2.fit(x2, y2)"
   ]
  },
  {
   "cell_type": "code",
   "execution_count": 101,
   "id": "23abfabe-c224-4424-8bc9-8f7b493a5a81",
   "metadata": {},
   "outputs": [],
   "source": [
    "predicted8 = model2.predict(tweetVectorsA[25570:31962])"
   ]
  },
  {
   "cell_type": "code",
   "execution_count": 102,
   "id": "b32d1e55-ca97-4540-a69f-8a0f0f9ab4c1",
   "metadata": {},
   "outputs": [
    {
     "data": {
      "text/plain": [
       "94.55569461827284"
      ]
     },
     "execution_count": 102,
     "metadata": {},
     "output_type": "execute_result"
    }
   ],
   "source": [
    "accuracy_score(trainTweetsP[1][25570:31962].to_numpy(), predicted8)*100"
   ]
  },
  {
   "cell_type": "code",
   "execution_count": 103,
   "id": "94be04fb-dd74-4e89-a605-6a9c0db92e84",
   "metadata": {},
   "outputs": [],
   "source": [
    "# Now, setting the training data to be the tweet vectors for frequency feature type.\n",
    "x3 = idfVectors[0:25570]"
   ]
  },
  {
   "cell_type": "code",
   "execution_count": 104,
   "id": "b9760dbe-251d-4446-8776-3939d24f99b4",
   "metadata": {},
   "outputs": [],
   "source": [
    "#Training, predicting, accuracy checking"
   ]
  },
  {
   "cell_type": "code",
   "execution_count": 105,
   "id": "ea934d43-cde0-49e6-829a-e131b5edd14f",
   "metadata": {},
   "outputs": [
    {
     "data": {
      "text/plain": [
       "GaussianNB()"
      ]
     },
     "execution_count": 105,
     "metadata": {},
     "output_type": "execute_result"
    }
   ],
   "source": [
    "model.fit(x3, y2)"
   ]
  },
  {
   "cell_type": "code",
   "execution_count": 106,
   "id": "87a55d65-27a6-43c4-a9b8-e9a1e6851087",
   "metadata": {},
   "outputs": [],
   "source": [
    "predicted9 = model.predict(idfVectors[25570:31962])"
   ]
  },
  {
   "cell_type": "code",
   "execution_count": 107,
   "id": "4ad2d105-ae74-49c1-a80b-ff20db9687b7",
   "metadata": {},
   "outputs": [
    {
     "data": {
      "text/plain": [
       "78.92678347934918"
      ]
     },
     "execution_count": 107,
     "metadata": {},
     "output_type": "execute_result"
    }
   ],
   "source": [
    "accuracy_score(trainTweetsP[1][25570:31962].to_numpy(), predicted9)*100"
   ]
  },
  {
   "cell_type": "code",
   "execution_count": 108,
   "id": "fd4b2d24-a686-4eaa-a7df-e092e062ac9c",
   "metadata": {},
   "outputs": [
    {
     "data": {
      "text/plain": [
       "MultinomialNB()"
      ]
     },
     "execution_count": 108,
     "metadata": {},
     "output_type": "execute_result"
    }
   ],
   "source": [
    "model1.fit(x3, y2)"
   ]
  },
  {
   "cell_type": "code",
   "execution_count": 109,
   "id": "df734549-c047-4a72-a7e1-88b448512278",
   "metadata": {},
   "outputs": [],
   "source": [
    "predicted10 = model1.predict(idfVectors[25570:31962])"
   ]
  },
  {
   "cell_type": "code",
   "execution_count": 110,
   "id": "55c00709-03a2-4b22-9ca6-9cc8c2d67fa4",
   "metadata": {},
   "outputs": [
    {
     "data": {
      "text/plain": [
       "91.80225281602003"
      ]
     },
     "execution_count": 110,
     "metadata": {},
     "output_type": "execute_result"
    }
   ],
   "source": [
    "accuracy_score(trainTweetsP[1][25570:31962].to_numpy(), predicted10)*100"
   ]
  },
  {
   "cell_type": "code",
   "execution_count": 111,
   "id": "a45104d6-a337-49ab-a9d1-72c717df386b",
   "metadata": {},
   "outputs": [
    {
     "data": {
      "text/plain": [
       "BernoulliNB()"
      ]
     },
     "execution_count": 111,
     "metadata": {},
     "output_type": "execute_result"
    }
   ],
   "source": [
    "model2.fit(x3, y2)"
   ]
  },
  {
   "cell_type": "code",
   "execution_count": 112,
   "id": "20097cbb-4630-41ee-96fa-114fac491b40",
   "metadata": {},
   "outputs": [],
   "source": [
    "predicted11 = model2.predict(idfVectors[25570:31962])"
   ]
  },
  {
   "cell_type": "code",
   "execution_count": 113,
   "id": "91cea836-bec0-49a4-b393-afa26a11b40f",
   "metadata": {},
   "outputs": [
    {
     "data": {
      "text/plain": [
       "94.55569461827284"
      ]
     },
     "execution_count": 113,
     "metadata": {},
     "output_type": "execute_result"
    }
   ],
   "source": [
    "accuracy_score(trainTweetsP[1][25570:31962].to_numpy(), predicted11)*100"
   ]
  },
  {
   "cell_type": "code",
   "execution_count": 114,
   "id": "87c63aa1-0577-40ee-bb61-56095acb6426",
   "metadata": {},
   "outputs": [],
   "source": [
    "# Importing libraries for performing sequential Logistic Regression using keras.\n",
    "import keras\n",
    "from keras.models import Sequential\n",
    "from keras.layers import Dense\n",
    "from keras.regularizers import L1L2"
   ]
  },
  {
   "cell_type": "code",
   "execution_count": 115,
   "id": "4398a8c4-fb1c-42f8-bc48-2532b87c8d88",
   "metadata": {},
   "outputs": [],
   "source": [
    "# Setting the relevant training data and actual outputs, similar to those used in Naive Bayes. \n",
    "xTrain1 = tweetVectorsA[0:25570]\n",
    "xTrain2 = idfVectors[0:25570]\n",
    "yTrain = trainTweetsP[1][0:25570].to_numpy()\n",
    "xVal1 = tweetVectorsA[25570:31962]\n",
    "xVal2 = idfVectors[25570:31962]\n",
    "yVal = trainTweetsP[1][25570:31962].to_numpy()"
   ]
  },
  {
   "cell_type": "code",
   "execution_count": 116,
   "id": "54d8e76c-fe3f-4981-9834-eaf31fd6e950",
   "metadata": {},
   "outputs": [],
   "source": [
    "# Building up the model for sequential Logistic Regression using keras. "
   ]
  },
  {
   "cell_type": "code",
   "execution_count": 117,
   "id": "5079b7a5-e5f2-47d2-9d8d-47969d8ee22b",
   "metadata": {},
   "outputs": [
    {
     "name": "stderr",
     "output_type": "stream",
     "text": [
      "2022-04-07 01:45:36.340292: I tensorflow/core/platform/cpu_feature_guard.cc:151] This TensorFlow binary is optimized with oneAPI Deep Neural Network Library (oneDNN) to use the following CPU instructions in performance-critical operations:  AVX2 FMA\n",
      "To enable them in other operations, rebuild TensorFlow with the appropriate compiler flags.\n"
     ]
    }
   ],
   "source": [
    "model = Sequential()"
   ]
  },
  {
   "cell_type": "code",
   "execution_count": 118,
   "id": "741c661c-b5f3-429d-9987-04011792f549",
   "metadata": {},
   "outputs": [],
   "source": [
    "model.add(Dense(1, activation='sigmoid', kernel_regularizer=L1L2(l1=0.0, l2=0.1), input_dim=len(idfVectors[1])))"
   ]
  },
  {
   "cell_type": "code",
   "execution_count": 119,
   "id": "6e93e9e9-21c1-4f71-9fba-5d5ea13f1ded",
   "metadata": {},
   "outputs": [],
   "source": [
    "model.compile(optimizer='adam',\n",
    "              loss='binary_crossentropy',\n",
    "              metrics=['accuracy'])"
   ]
  },
  {
   "cell_type": "code",
   "execution_count": 120,
   "id": "6d74dc79-d1d5-4e8d-a5de-9b4a12c2990d",
   "metadata": {},
   "outputs": [
    {
     "name": "stdout",
     "output_type": "stream",
     "text": [
      "Epoch 1/100\n",
      "800/800 [==============================] - 3s 3ms/step - loss: 0.4697 - accuracy: 0.9254 - val_loss: 0.3910 - val_accuracy: 0.9334\n",
      "Epoch 2/100\n",
      "800/800 [==============================] - 2s 2ms/step - loss: 0.3519 - accuracy: 0.9303 - val_loss: 0.3159 - val_accuracy: 0.9307\n",
      "Epoch 3/100\n",
      "800/800 [==============================] - 2s 2ms/step - loss: 0.2959 - accuracy: 0.9297 - val_loss: 0.2772 - val_accuracy: 0.9307\n",
      "Epoch 4/100\n",
      "800/800 [==============================] - 2s 2ms/step - loss: 0.2681 - accuracy: 0.9296 - val_loss: 0.2576 - val_accuracy: 0.9307\n",
      "Epoch 5/100\n",
      "800/800 [==============================] - 2s 2ms/step - loss: 0.2557 - accuracy: 0.9296 - val_loss: 0.2507 - val_accuracy: 0.9307\n",
      "Epoch 6/100\n",
      "800/800 [==============================] - 2s 2ms/step - loss: 0.2512 - accuracy: 0.9296 - val_loss: 0.2470 - val_accuracy: 0.9307\n",
      "Epoch 7/100\n",
      "800/800 [==============================] - 2s 2ms/step - loss: 0.2495 - accuracy: 0.9296 - val_loss: 0.2467 - val_accuracy: 0.9307\n",
      "Epoch 8/100\n",
      "800/800 [==============================] - 2s 3ms/step - loss: 0.2491 - accuracy: 0.9296 - val_loss: 0.2459 - val_accuracy: 0.9307\n",
      "Epoch 9/100\n",
      "800/800 [==============================] - 2s 2ms/step - loss: 0.2488 - accuracy: 0.9296 - val_loss: 0.2459 - val_accuracy: 0.9307\n",
      "Epoch 10/100\n",
      "800/800 [==============================] - 2s 2ms/step - loss: 0.2489 - accuracy: 0.9296 - val_loss: 0.2464 - val_accuracy: 0.9307\n",
      "Epoch 11/100\n",
      "800/800 [==============================] - 2s 2ms/step - loss: 0.2490 - accuracy: 0.9296 - val_loss: 0.2455 - val_accuracy: 0.9307\n",
      "Epoch 12/100\n",
      "800/800 [==============================] - 2s 2ms/step - loss: 0.2489 - accuracy: 0.9296 - val_loss: 0.2456 - val_accuracy: 0.9307\n",
      "Epoch 13/100\n",
      "800/800 [==============================] - 2s 2ms/step - loss: 0.2488 - accuracy: 0.9296 - val_loss: 0.2459 - val_accuracy: 0.9307\n",
      "Epoch 14/100\n",
      "800/800 [==============================] - 2s 2ms/step - loss: 0.2490 - accuracy: 0.9296 - val_loss: 0.2460 - val_accuracy: 0.9307\n",
      "Epoch 15/100\n",
      "800/800 [==============================] - 2s 2ms/step - loss: 0.2490 - accuracy: 0.9296 - val_loss: 0.2451 - val_accuracy: 0.9307\n",
      "Epoch 16/100\n",
      "800/800 [==============================] - 2s 2ms/step - loss: 0.2489 - accuracy: 0.9296 - val_loss: 0.2458 - val_accuracy: 0.9307\n",
      "Epoch 17/100\n",
      "800/800 [==============================] - 2s 2ms/step - loss: 0.2490 - accuracy: 0.9296 - val_loss: 0.2460 - val_accuracy: 0.9307\n",
      "Epoch 18/100\n",
      "800/800 [==============================] - 2s 2ms/step - loss: 0.2489 - accuracy: 0.9296 - val_loss: 0.2471 - val_accuracy: 0.9307\n",
      "Epoch 19/100\n",
      "800/800 [==============================] - 2s 2ms/step - loss: 0.2489 - accuracy: 0.9296 - val_loss: 0.2468 - val_accuracy: 0.9307\n",
      "Epoch 20/100\n",
      "800/800 [==============================] - 2s 2ms/step - loss: 0.2490 - accuracy: 0.9296 - val_loss: 0.2464 - val_accuracy: 0.9307\n",
      "Epoch 21/100\n",
      "800/800 [==============================] - 2s 2ms/step - loss: 0.2488 - accuracy: 0.9296 - val_loss: 0.2470 - val_accuracy: 0.9307\n",
      "Epoch 22/100\n",
      "800/800 [==============================] - 2s 2ms/step - loss: 0.2490 - accuracy: 0.9296 - val_loss: 0.2459 - val_accuracy: 0.9307\n",
      "Epoch 23/100\n",
      "800/800 [==============================] - 2s 2ms/step - loss: 0.2490 - accuracy: 0.9296 - val_loss: 0.2463 - val_accuracy: 0.9307\n",
      "Epoch 24/100\n",
      "800/800 [==============================] - 2s 2ms/step - loss: 0.2487 - accuracy: 0.9296 - val_loss: 0.2458 - val_accuracy: 0.9307\n",
      "Epoch 25/100\n",
      "800/800 [==============================] - 2s 3ms/step - loss: 0.2489 - accuracy: 0.9296 - val_loss: 0.2458 - val_accuracy: 0.9307\n",
      "Epoch 26/100\n",
      "800/800 [==============================] - 2s 3ms/step - loss: 0.2491 - accuracy: 0.9296 - val_loss: 0.2452 - val_accuracy: 0.9307\n",
      "Epoch 27/100\n",
      "800/800 [==============================] - 2s 3ms/step - loss: 0.2490 - accuracy: 0.9296 - val_loss: 0.2454 - val_accuracy: 0.9307\n",
      "Epoch 28/100\n",
      "800/800 [==============================] - 2s 2ms/step - loss: 0.2489 - accuracy: 0.9296 - val_loss: 0.2455 - val_accuracy: 0.9307\n",
      "Epoch 29/100\n",
      "800/800 [==============================] - 2s 2ms/step - loss: 0.2488 - accuracy: 0.9296 - val_loss: 0.2464 - val_accuracy: 0.9307\n",
      "Epoch 30/100\n",
      "800/800 [==============================] - 2s 2ms/step - loss: 0.2490 - accuracy: 0.9296 - val_loss: 0.2455 - val_accuracy: 0.9307\n",
      "Epoch 31/100\n",
      "800/800 [==============================] - 2s 2ms/step - loss: 0.2489 - accuracy: 0.9296 - val_loss: 0.2459 - val_accuracy: 0.9307\n",
      "Epoch 32/100\n",
      "800/800 [==============================] - 2s 2ms/step - loss: 0.2489 - accuracy: 0.9296 - val_loss: 0.2461 - val_accuracy: 0.9307\n",
      "Epoch 33/100\n",
      "800/800 [==============================] - 2s 2ms/step - loss: 0.2489 - accuracy: 0.9296 - val_loss: 0.2451 - val_accuracy: 0.9307\n",
      "Epoch 34/100\n",
      "800/800 [==============================] - 2s 3ms/step - loss: 0.2490 - accuracy: 0.9296 - val_loss: 0.2463 - val_accuracy: 0.9307\n",
      "Epoch 35/100\n",
      "800/800 [==============================] - 2s 2ms/step - loss: 0.2488 - accuracy: 0.9296 - val_loss: 0.2464 - val_accuracy: 0.9307\n",
      "Epoch 36/100\n",
      "800/800 [==============================] - 2s 2ms/step - loss: 0.2489 - accuracy: 0.9296 - val_loss: 0.2460 - val_accuracy: 0.9307\n",
      "Epoch 37/100\n",
      "800/800 [==============================] - 2s 2ms/step - loss: 0.2489 - accuracy: 0.9296 - val_loss: 0.2453 - val_accuracy: 0.9307\n",
      "Epoch 38/100\n",
      "800/800 [==============================] - 2s 2ms/step - loss: 0.2488 - accuracy: 0.9296 - val_loss: 0.2468 - val_accuracy: 0.9307\n",
      "Epoch 39/100\n",
      "800/800 [==============================] - 2s 2ms/step - loss: 0.2489 - accuracy: 0.9296 - val_loss: 0.2453 - val_accuracy: 0.9307\n",
      "Epoch 40/100\n",
      "800/800 [==============================] - 2s 3ms/step - loss: 0.2489 - accuracy: 0.9296 - val_loss: 0.2455 - val_accuracy: 0.9307\n",
      "Epoch 41/100\n",
      "800/800 [==============================] - 2s 3ms/step - loss: 0.2489 - accuracy: 0.9296 - val_loss: 0.2461 - val_accuracy: 0.9307\n",
      "Epoch 42/100\n",
      "800/800 [==============================] - 2s 2ms/step - loss: 0.2489 - accuracy: 0.9296 - val_loss: 0.2457 - val_accuracy: 0.9307\n",
      "Epoch 43/100\n",
      "800/800 [==============================] - 2s 2ms/step - loss: 0.2489 - accuracy: 0.9296 - val_loss: 0.2455 - val_accuracy: 0.9307\n",
      "Epoch 44/100\n",
      "800/800 [==============================] - 2s 2ms/step - loss: 0.2490 - accuracy: 0.9296 - val_loss: 0.2459 - val_accuracy: 0.9307\n",
      "Epoch 45/100\n",
      "800/800 [==============================] - 2s 2ms/step - loss: 0.2489 - accuracy: 0.9296 - val_loss: 0.2470 - val_accuracy: 0.9307\n",
      "Epoch 46/100\n",
      "800/800 [==============================] - 2s 3ms/step - loss: 0.2490 - accuracy: 0.9296 - val_loss: 0.2454 - val_accuracy: 0.9307\n",
      "Epoch 47/100\n",
      "800/800 [==============================] - 2s 3ms/step - loss: 0.2489 - accuracy: 0.9296 - val_loss: 0.2456 - val_accuracy: 0.9307\n",
      "Epoch 48/100\n",
      "800/800 [==============================] - 2s 2ms/step - loss: 0.2490 - accuracy: 0.9296 - val_loss: 0.2457 - val_accuracy: 0.9307\n",
      "Epoch 49/100\n",
      "800/800 [==============================] - 2s 2ms/step - loss: 0.2490 - accuracy: 0.9296 - val_loss: 0.2453 - val_accuracy: 0.9307\n",
      "Epoch 50/100\n",
      "800/800 [==============================] - 2s 2ms/step - loss: 0.2489 - accuracy: 0.9296 - val_loss: 0.2456 - val_accuracy: 0.9307\n",
      "Epoch 51/100\n",
      "800/800 [==============================] - 2s 2ms/step - loss: 0.2489 - accuracy: 0.9296 - val_loss: 0.2453 - val_accuracy: 0.9307\n",
      "Epoch 52/100\n",
      "800/800 [==============================] - 2s 2ms/step - loss: 0.2492 - accuracy: 0.9296 - val_loss: 0.2453 - val_accuracy: 0.9307\n",
      "Epoch 53/100\n",
      "800/800 [==============================] - 2s 2ms/step - loss: 0.2489 - accuracy: 0.9296 - val_loss: 0.2459 - val_accuracy: 0.9307\n",
      "Epoch 54/100\n",
      "800/800 [==============================] - 2s 2ms/step - loss: 0.2489 - accuracy: 0.9296 - val_loss: 0.2451 - val_accuracy: 0.9307\n",
      "Epoch 55/100\n",
      "800/800 [==============================] - 2s 2ms/step - loss: 0.2490 - accuracy: 0.9296 - val_loss: 0.2460 - val_accuracy: 0.9307\n",
      "Epoch 56/100\n",
      "800/800 [==============================] - 2s 2ms/step - loss: 0.2490 - accuracy: 0.9296 - val_loss: 0.2461 - val_accuracy: 0.9307\n",
      "Epoch 57/100\n",
      "800/800 [==============================] - 1s 2ms/step - loss: 0.2489 - accuracy: 0.9296 - val_loss: 0.2462 - val_accuracy: 0.9307\n",
      "Epoch 58/100\n",
      "800/800 [==============================] - 2s 2ms/step - loss: 0.2490 - accuracy: 0.9296 - val_loss: 0.2455 - val_accuracy: 0.9307\n",
      "Epoch 59/100\n",
      "800/800 [==============================] - 2s 2ms/step - loss: 0.2490 - accuracy: 0.9296 - val_loss: 0.2457 - val_accuracy: 0.9307\n",
      "Epoch 60/100\n",
      "800/800 [==============================] - 1s 2ms/step - loss: 0.2489 - accuracy: 0.9296 - val_loss: 0.2461 - val_accuracy: 0.9307\n",
      "Epoch 61/100\n",
      "800/800 [==============================] - 2s 2ms/step - loss: 0.2490 - accuracy: 0.9296 - val_loss: 0.2460 - val_accuracy: 0.9307\n",
      "Epoch 62/100\n",
      "800/800 [==============================] - 1s 2ms/step - loss: 0.2489 - accuracy: 0.9296 - val_loss: 0.2464 - val_accuracy: 0.9307\n",
      "Epoch 63/100\n",
      "800/800 [==============================] - 2s 2ms/step - loss: 0.2489 - accuracy: 0.9296 - val_loss: 0.2457 - val_accuracy: 0.9307\n",
      "Epoch 64/100\n",
      "800/800 [==============================] - 2s 2ms/step - loss: 0.2489 - accuracy: 0.9296 - val_loss: 0.2463 - val_accuracy: 0.9307\n",
      "Epoch 65/100\n",
      "800/800 [==============================] - 2s 2ms/step - loss: 0.2490 - accuracy: 0.9296 - val_loss: 0.2458 - val_accuracy: 0.9307\n",
      "Epoch 66/100\n",
      "800/800 [==============================] - 2s 2ms/step - loss: 0.2489 - accuracy: 0.9296 - val_loss: 0.2455 - val_accuracy: 0.9307\n",
      "Epoch 67/100\n",
      "800/800 [==============================] - 2s 2ms/step - loss: 0.2490 - accuracy: 0.9296 - val_loss: 0.2454 - val_accuracy: 0.9307\n",
      "Epoch 68/100\n",
      "800/800 [==============================] - 2s 2ms/step - loss: 0.2490 - accuracy: 0.9296 - val_loss: 0.2458 - val_accuracy: 0.9307\n",
      "Epoch 69/100\n",
      "800/800 [==============================] - 2s 2ms/step - loss: 0.2489 - accuracy: 0.9296 - val_loss: 0.2459 - val_accuracy: 0.9307\n",
      "Epoch 70/100\n",
      "800/800 [==============================] - 1s 2ms/step - loss: 0.2490 - accuracy: 0.9296 - val_loss: 0.2458 - val_accuracy: 0.9307\n",
      "Epoch 71/100\n",
      "800/800 [==============================] - 2s 2ms/step - loss: 0.2489 - accuracy: 0.9296 - val_loss: 0.2456 - val_accuracy: 0.9307\n",
      "Epoch 72/100\n",
      "800/800 [==============================] - 2s 2ms/step - loss: 0.2489 - accuracy: 0.9296 - val_loss: 0.2453 - val_accuracy: 0.9307\n",
      "Epoch 73/100\n",
      "800/800 [==============================] - 2s 2ms/step - loss: 0.2489 - accuracy: 0.9296 - val_loss: 0.2463 - val_accuracy: 0.9307\n",
      "Epoch 74/100\n",
      "800/800 [==============================] - 2s 2ms/step - loss: 0.2490 - accuracy: 0.9296 - val_loss: 0.2459 - val_accuracy: 0.9307\n",
      "Epoch 75/100\n",
      "800/800 [==============================] - 2s 2ms/step - loss: 0.2488 - accuracy: 0.9296 - val_loss: 0.2449 - val_accuracy: 0.9307\n",
      "Epoch 76/100\n",
      "800/800 [==============================] - 2s 2ms/step - loss: 0.2490 - accuracy: 0.9296 - val_loss: 0.2461 - val_accuracy: 0.9307\n",
      "Epoch 77/100\n",
      "800/800 [==============================] - 2s 2ms/step - loss: 0.2489 - accuracy: 0.9296 - val_loss: 0.2465 - val_accuracy: 0.9307\n",
      "Epoch 78/100\n",
      "800/800 [==============================] - 2s 2ms/step - loss: 0.2490 - accuracy: 0.9296 - val_loss: 0.2455 - val_accuracy: 0.9307\n",
      "Epoch 79/100\n",
      "800/800 [==============================] - 2s 2ms/step - loss: 0.2489 - accuracy: 0.9296 - val_loss: 0.2460 - val_accuracy: 0.9307\n",
      "Epoch 80/100\n",
      "800/800 [==============================] - 2s 2ms/step - loss: 0.2488 - accuracy: 0.9296 - val_loss: 0.2460 - val_accuracy: 0.9307\n",
      "Epoch 81/100\n",
      "800/800 [==============================] - 2s 2ms/step - loss: 0.2489 - accuracy: 0.9296 - val_loss: 0.2462 - val_accuracy: 0.9307\n",
      "Epoch 82/100\n",
      "800/800 [==============================] - 1s 2ms/step - loss: 0.2488 - accuracy: 0.9296 - val_loss: 0.2469 - val_accuracy: 0.9307\n",
      "Epoch 83/100\n",
      "800/800 [==============================] - 2s 2ms/step - loss: 0.2490 - accuracy: 0.9296 - val_loss: 0.2454 - val_accuracy: 0.9307\n",
      "Epoch 84/100\n",
      "800/800 [==============================] - 2s 2ms/step - loss: 0.2489 - accuracy: 0.9296 - val_loss: 0.2457 - val_accuracy: 0.9307\n",
      "Epoch 85/100\n",
      "800/800 [==============================] - 2s 2ms/step - loss: 0.2490 - accuracy: 0.9296 - val_loss: 0.2453 - val_accuracy: 0.9307\n",
      "Epoch 86/100\n",
      "800/800 [==============================] - 2s 2ms/step - loss: 0.2490 - accuracy: 0.9296 - val_loss: 0.2456 - val_accuracy: 0.9307\n",
      "Epoch 87/100\n",
      "800/800 [==============================] - 2s 2ms/step - loss: 0.2489 - accuracy: 0.9296 - val_loss: 0.2453 - val_accuracy: 0.9307\n",
      "Epoch 88/100\n",
      "800/800 [==============================] - 2s 2ms/step - loss: 0.2490 - accuracy: 0.9296 - val_loss: 0.2457 - val_accuracy: 0.9307\n",
      "Epoch 89/100\n",
      "800/800 [==============================] - 2s 2ms/step - loss: 0.2489 - accuracy: 0.9296 - val_loss: 0.2461 - val_accuracy: 0.9307\n",
      "Epoch 90/100\n",
      "800/800 [==============================] - 1s 2ms/step - loss: 0.2489 - accuracy: 0.9296 - val_loss: 0.2462 - val_accuracy: 0.9307\n",
      "Epoch 91/100\n",
      "800/800 [==============================] - 2s 2ms/step - loss: 0.2490 - accuracy: 0.9296 - val_loss: 0.2457 - val_accuracy: 0.9307\n",
      "Epoch 92/100\n",
      "800/800 [==============================] - 2s 2ms/step - loss: 0.2490 - accuracy: 0.9296 - val_loss: 0.2461 - val_accuracy: 0.9307\n",
      "Epoch 93/100\n",
      "800/800 [==============================] - 1s 2ms/step - loss: 0.2489 - accuracy: 0.9296 - val_loss: 0.2463 - val_accuracy: 0.9307\n",
      "Epoch 94/100\n",
      "800/800 [==============================] - 1s 2ms/step - loss: 0.2490 - accuracy: 0.9296 - val_loss: 0.2456 - val_accuracy: 0.9307\n",
      "Epoch 95/100\n",
      "800/800 [==============================] - 2s 2ms/step - loss: 0.2489 - accuracy: 0.9296 - val_loss: 0.2459 - val_accuracy: 0.9307\n",
      "Epoch 96/100\n",
      "800/800 [==============================] - 2s 2ms/step - loss: 0.2489 - accuracy: 0.9296 - val_loss: 0.2458 - val_accuracy: 0.9307\n",
      "Epoch 97/100\n",
      "800/800 [==============================] - 2s 2ms/step - loss: 0.2490 - accuracy: 0.9296 - val_loss: 0.2450 - val_accuracy: 0.9307\n",
      "Epoch 98/100\n",
      "800/800 [==============================] - 2s 2ms/step - loss: 0.2488 - accuracy: 0.9296 - val_loss: 0.2462 - val_accuracy: 0.9307\n",
      "Epoch 99/100\n",
      "800/800 [==============================] - 2s 2ms/step - loss: 0.2488 - accuracy: 0.9296 - val_loss: 0.2454 - val_accuracy: 0.9307\n",
      "Epoch 100/100\n",
      "800/800 [==============================] - 2s 2ms/step - loss: 0.2489 - accuracy: 0.9296 - val_loss: 0.2459 - val_accuracy: 0.9307\n"
     ]
    },
    {
     "data": {
      "text/plain": [
       "<keras.callbacks.History at 0x23b919f90>"
      ]
     },
     "execution_count": 120,
     "metadata": {},
     "output_type": "execute_result"
    }
   ],
   "source": [
    "# Using the model to train the data for presence vectors representing tweets.\n",
    "model.fit(xTrain2, yTrain, epochs=100, validation_data=(xVal2, yVal))"
   ]
  },
  {
   "cell_type": "code",
   "execution_count": 121,
   "id": "090358c4-35df-4964-949b-32d029136eea",
   "metadata": {},
   "outputs": [],
   "source": [
    "# Using the model, after training, to predict the sentiment labels of the test tweets represented by \n",
    "# presence vectors, whose actual sentiment labels are known. \n",
    "predictions = model.predict(xVal2).round()"
   ]
  },
  {
   "cell_type": "code",
   "execution_count": 122,
   "id": "98269744-0ebb-411c-a212-c8ca9ddaab4f",
   "metadata": {},
   "outputs": [
    {
     "data": {
      "text/plain": [
       "93.0694618272841"
      ]
     },
     "execution_count": 122,
     "metadata": {},
     "output_type": "execute_result"
    }
   ],
   "source": [
    "# Checking the accuracy of the model, based on the percentage of test tweets whose sentiment labels were \n",
    "# accurately predicted.\n",
    "accuracy_score(yVal, predictions)*100"
   ]
  },
  {
   "cell_type": "code",
   "execution_count": 123,
   "id": "3f0bb1fe-0956-4b28-a8cf-e8f259932331",
   "metadata": {},
   "outputs": [],
   "source": [
    "# Importing library for SVM classification.\n",
    "from sklearn import svm"
   ]
  },
  {
   "cell_type": "code",
   "execution_count": 124,
   "id": "2df7d8bb-b6f2-4606-81d5-189baad57fa5",
   "metadata": {},
   "outputs": [],
   "source": [
    "# Building up the SVM model.\n",
    "clf = svm.SVC(gamma='scale')"
   ]
  },
  {
   "cell_type": "code",
   "execution_count": 125,
   "id": "635b10fa-eeb4-4c2d-aecb-2109d92f225d",
   "metadata": {},
   "outputs": [],
   "source": [
    "# Setting the training data, tweet vectors for presence, and actual outputs, sentiment labels. \n",
    "xA = tweetVectorsA[0:2000]\n",
    "yA = trainTweetsP[1][0:2000].to_numpy()"
   ]
  },
  {
   "cell_type": "code",
   "execution_count": 126,
   "id": "d50d709d-db26-4ce9-ae66-69b5ba4b0bb1",
   "metadata": {},
   "outputs": [
    {
     "data": {
      "text/plain": [
       "SVC()"
      ]
     },
     "execution_count": 126,
     "metadata": {},
     "output_type": "execute_result"
    }
   ],
   "source": [
    "# Using the SVM model to train the data. \n",
    "clf.fit(xA, yA)"
   ]
  },
  {
   "cell_type": "code",
   "execution_count": 127,
   "id": "5780f601-0f57-4598-bf61-5781520bd733",
   "metadata": {},
   "outputs": [],
   "source": [
    "# Using the model, after training, to predict the sentiment labels of test tweets represented by \n",
    "# presence vectors, whose actual sentiment labels are known. Also, checking the accuracy of the model,\n",
    "# based on the percentage of test tweets whose sentiment labels were accurately predicted. To account for \n",
    "# available memory, the test tweets are split into multiple groups and the accuracy of each group is determined. "
   ]
  },
  {
   "cell_type": "code",
   "execution_count": 128,
   "id": "4915b711-3db2-46b8-b234-345db4ae0631",
   "metadata": {},
   "outputs": [],
   "source": [
    "A = clf.predict(tweetVectorsA[2000:4000])"
   ]
  },
  {
   "cell_type": "code",
   "execution_count": 129,
   "id": "437479cc-1f20-42df-acd5-bf22905313db",
   "metadata": {},
   "outputs": [
    {
     "data": {
      "text/plain": [
       "93.60000000000001"
      ]
     },
     "execution_count": 129,
     "metadata": {},
     "output_type": "execute_result"
    }
   ],
   "source": [
    "accuracy_score(trainTweetsP[1][2000:4000].to_numpy(), A)*100"
   ]
  },
  {
   "cell_type": "code",
   "execution_count": 130,
   "id": "24c06ec1-67e1-4da8-b93b-10e1c49dbb1b",
   "metadata": {},
   "outputs": [
    {
     "data": {
      "text/plain": [
       "93.67999999999999"
      ]
     },
     "execution_count": 130,
     "metadata": {},
     "output_type": "execute_result"
    }
   ],
   "source": [
    "B = clf.predict(tweetVectorsA[4000:6500])\n",
    "accuracy_score(trainTweetsP[1][4000:6500].to_numpy(), B)*100"
   ]
  },
  {
   "cell_type": "code",
   "execution_count": 131,
   "id": "692bec4e-0482-46ab-b16a-d533e95daa51",
   "metadata": {},
   "outputs": [
    {
     "data": {
      "text/plain": [
       "93.84"
      ]
     },
     "execution_count": 131,
     "metadata": {},
     "output_type": "execute_result"
    }
   ],
   "source": [
    "C = clf.predict(tweetVectorsA[6500:9000])\n",
    "accuracy_score(trainTweetsP[1][6500:9000].to_numpy(), C)*100"
   ]
  },
  {
   "cell_type": "code",
   "execution_count": 132,
   "id": "62b2a4c7-91f7-4ba1-b0c5-8c69d737d763",
   "metadata": {},
   "outputs": [
    {
     "data": {
      "text/plain": [
       "93.47999999999999"
      ]
     },
     "execution_count": 132,
     "metadata": {},
     "output_type": "execute_result"
    }
   ],
   "source": [
    "D = clf.predict(tweetVectorsA[9000:11500])\n",
    "accuracy_score(trainTweetsP[1][9000:11500].to_numpy(), D)*100"
   ]
  },
  {
   "cell_type": "code",
   "execution_count": 133,
   "id": "975ad35a-09a4-44a8-a5a9-e4533082fc0f",
   "metadata": {},
   "outputs": [
    {
     "data": {
      "text/plain": [
       "93.84"
      ]
     },
     "execution_count": 133,
     "metadata": {},
     "output_type": "execute_result"
    }
   ],
   "source": [
    "E = clf.predict(tweetVectorsA[11500:14000])\n",
    "accuracy_score(trainTweetsP[1][11500:14000].to_numpy(), E)*100"
   ]
  },
  {
   "cell_type": "code",
   "execution_count": 134,
   "id": "3f44b2c7-bf9f-490f-830f-9622a6c3d97e",
   "metadata": {},
   "outputs": [
    {
     "data": {
      "text/plain": [
       "94.19999999999999"
      ]
     },
     "execution_count": 134,
     "metadata": {},
     "output_type": "execute_result"
    }
   ],
   "source": [
    "F = clf.predict(tweetVectorsA[14000:16500])\n",
    "accuracy_score(trainTweetsP[1][14000:16500].to_numpy(), F)*100"
   ]
  },
  {
   "cell_type": "code",
   "execution_count": 135,
   "id": "c75e03d9-18da-48cd-9a59-c6e1af3c92c9",
   "metadata": {},
   "outputs": [
    {
     "data": {
      "text/plain": [
       "94.19999999999999"
      ]
     },
     "execution_count": 135,
     "metadata": {},
     "output_type": "execute_result"
    }
   ],
   "source": [
    "G = clf.predict(tweetVectorsA[16500:19000])\n",
    "accuracy_score(trainTweetsP[1][16500:19000].to_numpy(), G)*100"
   ]
  },
  {
   "cell_type": "code",
   "execution_count": 136,
   "id": "d98fa1bb-e3b6-4817-a367-d118a1619233",
   "metadata": {},
   "outputs": [
    {
     "data": {
      "text/plain": [
       "93.16"
      ]
     },
     "execution_count": 136,
     "metadata": {},
     "output_type": "execute_result"
    }
   ],
   "source": [
    "H = clf.predict(tweetVectorsA[19000:21500])\n",
    "accuracy_score(trainTweetsP[1][19000:21500].to_numpy(), H)*100"
   ]
  },
  {
   "cell_type": "code",
   "execution_count": 137,
   "id": "673771c7-2df0-4624-9eae-8518e49caaf0",
   "metadata": {},
   "outputs": [
    {
     "data": {
      "text/plain": [
       "93.04"
      ]
     },
     "execution_count": 137,
     "metadata": {},
     "output_type": "execute_result"
    }
   ],
   "source": [
    "I = clf.predict(tweetVectorsA[21500:24000])\n",
    "accuracy_score(trainTweetsP[1][21500:24000].to_numpy(), I)*100"
   ]
  },
  {
   "cell_type": "code",
   "execution_count": 138,
   "id": "f23c86b0-9e49-4129-8906-2b5e29b31020",
   "metadata": {},
   "outputs": [
    {
     "data": {
      "text/plain": [
       "93.4"
      ]
     },
     "execution_count": 138,
     "metadata": {},
     "output_type": "execute_result"
    }
   ],
   "source": [
    "J = clf.predict(tweetVectorsA[24000:26500])\n",
    "accuracy_score(trainTweetsP[1][24000:26500].to_numpy(), J)*100"
   ]
  },
  {
   "cell_type": "code",
   "execution_count": 139,
   "id": "e01c8bd7-bf2b-4e8c-a72b-13fcc2969955",
   "metadata": {},
   "outputs": [
    {
     "data": {
      "text/plain": [
       "93.52000000000001"
      ]
     },
     "execution_count": 139,
     "metadata": {},
     "output_type": "execute_result"
    }
   ],
   "source": [
    "K = clf.predict(tweetVectorsA[26500:29000])\n",
    "accuracy_score(trainTweetsP[1][26500:29000].to_numpy(), K)*100"
   ]
  },
  {
   "cell_type": "code",
   "execution_count": 140,
   "id": "c995ea4d-91aa-4032-b9d3-3efe81696c02",
   "metadata": {},
   "outputs": [
    {
     "data": {
      "text/plain": [
       "93.95678595543552"
      ]
     },
     "execution_count": 140,
     "metadata": {},
     "output_type": "execute_result"
    }
   ],
   "source": [
    "L = clf.predict(tweetVectorsA[29000:31962])\n",
    "accuracy_score(trainTweetsP[1][29000:31962].to_numpy(), L)*100"
   ]
  },
  {
   "cell_type": "code",
   "execution_count": 141,
   "id": "a3253601-5d7e-40ec-a4e8-cf377df68884",
   "metadata": {},
   "outputs": [],
   "source": [
    "# Following the above steps, the general accuracy for the all the test tweets is determined manually using a calculator.\n",
    "# This accuracy is determined to be 93.67%, for presence vectors. "
   ]
  },
  {
   "cell_type": "code",
   "execution_count": 142,
   "id": "95b6da96-fc40-4259-b05d-c2e3df8f928f",
   "metadata": {},
   "outputs": [],
   "source": [
    "# Setting the training data, tweet vectors for frequency, and actual outputs, sentiment labels. \n",
    "xB = idfVectors[0:2000]\n",
    "yB = trainTweetsP[1][0:2000].to_numpy()"
   ]
  },
  {
   "cell_type": "code",
   "execution_count": 143,
   "id": "28e2ae89-5019-49c3-bcdd-429601b77473",
   "metadata": {},
   "outputs": [
    {
     "data": {
      "text/plain": [
       "SVC()"
      ]
     },
     "execution_count": 143,
     "metadata": {},
     "output_type": "execute_result"
    }
   ],
   "source": [
    "# Using the SVM model to train the data.\n",
    "clf.fit(xB, yB)"
   ]
  },
  {
   "cell_type": "code",
   "execution_count": 144,
   "id": "c2610d89-03f8-4bc8-81f3-30fcbee8e563",
   "metadata": {},
   "outputs": [],
   "source": [
    "# Using the model, after training, to predict the sentiment labels of test tweets represented by \n",
    "# frequency vectors, whose actual sentiment labels are known. Also, checking the accuracy of the model,\n",
    "# based on the percentage of test tweets whose sentiment labels were accurately predicted. To account for \n",
    "# available memory, the test tweets are split into multiple groups and the accuracy of each group is determined."
   ]
  },
  {
   "cell_type": "code",
   "execution_count": 145,
   "id": "011e422a-9e02-43cb-ad15-bf589a22961a",
   "metadata": {},
   "outputs": [
    {
     "data": {
      "text/plain": [
       "93.84"
      ]
     },
     "execution_count": 145,
     "metadata": {},
     "output_type": "execute_result"
    }
   ],
   "source": [
    "a = clf.predict(idfVectors[2000:4500])\n",
    "accuracy_score(trainTweetsP[1][2000:4500].to_numpy(), a)*100"
   ]
  },
  {
   "cell_type": "code",
   "execution_count": 146,
   "id": "0aac9262-52de-421b-a920-c9ea0741e15d",
   "metadata": {},
   "outputs": [
    {
     "data": {
      "text/plain": [
       "93.47999999999999"
      ]
     },
     "execution_count": 146,
     "metadata": {},
     "output_type": "execute_result"
    }
   ],
   "source": [
    "b = clf.predict(idfVectors[4500:7000])\n",
    "accuracy_score(trainTweetsP[1][4500:7000].to_numpy(), b)*100"
   ]
  },
  {
   "cell_type": "code",
   "execution_count": 147,
   "id": "0ac4d6bd-942d-4627-8fad-0a856983be63",
   "metadata": {},
   "outputs": [
    {
     "data": {
      "text/plain": [
       "93.88"
      ]
     },
     "execution_count": 147,
     "metadata": {},
     "output_type": "execute_result"
    }
   ],
   "source": [
    "c = clf.predict(idfVectors[7000:9500])\n",
    "accuracy_score(trainTweetsP[1][7000:9500].to_numpy(), c)*100"
   ]
  },
  {
   "cell_type": "code",
   "execution_count": 148,
   "id": "e638e57e-0710-4597-a893-4f632439c90f",
   "metadata": {},
   "outputs": [
    {
     "data": {
      "text/plain": [
       "93.47999999999999"
      ]
     },
     "execution_count": 148,
     "metadata": {},
     "output_type": "execute_result"
    }
   ],
   "source": [
    "d = clf.predict(idfVectors[9500:12000])\n",
    "accuracy_score(trainTweetsP[1][9500:12000].to_numpy(), d)*100"
   ]
  },
  {
   "cell_type": "code",
   "execution_count": 149,
   "id": "762b95f2-7b7e-4b5e-aa13-bd36f296e262",
   "metadata": {},
   "outputs": [
    {
     "data": {
      "text/plain": [
       "93.76"
      ]
     },
     "execution_count": 149,
     "metadata": {},
     "output_type": "execute_result"
    }
   ],
   "source": [
    "e = clf.predict(idfVectors[12000:14500])\n",
    "accuracy_score(trainTweetsP[1][12000:14500].to_numpy(), e)*100"
   ]
  },
  {
   "cell_type": "code",
   "execution_count": 150,
   "id": "ee8de23f-c553-4cc9-9682-ec313435f824",
   "metadata": {},
   "outputs": [
    {
     "data": {
      "text/plain": [
       "93.88"
      ]
     },
     "execution_count": 150,
     "metadata": {},
     "output_type": "execute_result"
    }
   ],
   "source": [
    "f = clf.predict(idfVectors[14500:17000])\n",
    "accuracy_score(trainTweetsP[1][14500:17000].to_numpy(), f)*100"
   ]
  },
  {
   "cell_type": "code",
   "execution_count": 151,
   "id": "c41852be-9d8d-4e0d-8263-c35371f0efbf",
   "metadata": {},
   "outputs": [
    {
     "data": {
      "text/plain": [
       "94.16"
      ]
     },
     "execution_count": 151,
     "metadata": {},
     "output_type": "execute_result"
    }
   ],
   "source": [
    "g = clf.predict(idfVectors[17000:19500])\n",
    "accuracy_score(trainTweetsP[1][17000:19500].to_numpy(), g)*100"
   ]
  },
  {
   "cell_type": "code",
   "execution_count": 152,
   "id": "6612af47-c55c-40c4-ab80-cc67c5b60979",
   "metadata": {},
   "outputs": [
    {
     "data": {
      "text/plain": [
       "93.47999999999999"
      ]
     },
     "execution_count": 152,
     "metadata": {},
     "output_type": "execute_result"
    }
   ],
   "source": [
    "h = clf.predict(idfVectors[19500:22000])\n",
    "accuracy_score(trainTweetsP[1][19500:22000].to_numpy(), h)*100"
   ]
  },
  {
   "cell_type": "code",
   "execution_count": 153,
   "id": "8ab3c8fd-fb0e-475a-9309-3dfab6c27427",
   "metadata": {},
   "outputs": [
    {
     "data": {
      "text/plain": [
       "92.96"
      ]
     },
     "execution_count": 153,
     "metadata": {},
     "output_type": "execute_result"
    }
   ],
   "source": [
    "i = clf.predict(idfVectors[22000:24500])\n",
    "accuracy_score(trainTweetsP[1][22000:24500].to_numpy(), i)*100"
   ]
  },
  {
   "cell_type": "code",
   "execution_count": 154,
   "id": "d6e4f142-7aa9-418f-b302-7d5b89410a98",
   "metadata": {},
   "outputs": [
    {
     "data": {
      "text/plain": [
       "93.52000000000001"
      ]
     },
     "execution_count": 154,
     "metadata": {},
     "output_type": "execute_result"
    }
   ],
   "source": [
    "j = clf.predict(idfVectors[24500:27000])\n",
    "accuracy_score(trainTweetsP[1][24500:27000].to_numpy(), j)*100"
   ]
  },
  {
   "cell_type": "code",
   "execution_count": 155,
   "id": "87e05017-009f-4d88-92e6-fee24ae0b50d",
   "metadata": {},
   "outputs": [
    {
     "data": {
      "text/plain": [
       "93.64"
      ]
     },
     "execution_count": 155,
     "metadata": {},
     "output_type": "execute_result"
    }
   ],
   "source": [
    "k = clf.predict(idfVectors[27000:29500])\n",
    "accuracy_score(trainTweetsP[1][27000:29500].to_numpy(), k)*100"
   ]
  },
  {
   "cell_type": "code",
   "execution_count": 156,
   "id": "211cee06-37e7-4419-b99e-fb1331d3e477",
   "metadata": {},
   "outputs": [
    {
     "data": {
      "text/plain": [
       "93.78554021121039"
      ]
     },
     "execution_count": 156,
     "metadata": {},
     "output_type": "execute_result"
    }
   ],
   "source": [
    "l = clf.predict(idfVectors[29500:31962])\n",
    "accuracy_score(trainTweetsP[1][29500:31962].to_numpy(), l)*100"
   ]
  },
  {
   "cell_type": "code",
   "execution_count": 157,
   "id": "0c09745e-929f-4055-a202-c574460f62eb",
   "metadata": {},
   "outputs": [],
   "source": [
    "# Following the above steps, the general accuracy for the all the test tweets is determined manually using a calculator.\n",
    "# This accuracy is determined to be 93.66%, for frequency vectors."
   ]
  },
  {
   "cell_type": "code",
   "execution_count": 158,
   "id": "3e54d0b2-5b4b-40b4-ae9b-d78497571e33",
   "metadata": {},
   "outputs": [],
   "source": [
    "#Also, test models on other data sets"
   ]
  },
  {
   "cell_type": "code",
   "execution_count": null,
   "id": "6c5f02e0-5dfa-43d0-9092-1ee53dfa8494",
   "metadata": {},
   "outputs": [],
   "source": []
  }
 ],
 "metadata": {
  "kernelspec": {
   "display_name": "Python 3 (ipykernel)",
   "language": "python",
   "name": "python3"
  },
  "language_info": {
   "codemirror_mode": {
    "name": "ipython",
    "version": 3
   },
   "file_extension": ".py",
   "mimetype": "text/x-python",
   "name": "python",
   "nbconvert_exporter": "python",
   "pygments_lexer": "ipython3",
   "version": "3.10.4"
  }
 },
 "nbformat": 4,
 "nbformat_minor": 5
}
