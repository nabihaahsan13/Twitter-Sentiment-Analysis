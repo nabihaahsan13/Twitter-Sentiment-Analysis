{
 "cells": [
  {
   "cell_type": "code",
   "execution_count": 1,
   "id": "1c9e3317-fb60-481c-a3f2-c40f62254a3e",
   "metadata": {},
   "outputs": [],
   "source": [
    "import io\n",
    "import re\n",
    "import pandas as pd\n",
    "import numpy as np\n",
    "import string\n",
    "from string import punctuation\n",
    "from re import sub"
   ]
  },
  {
   "cell_type": "code",
   "execution_count": 2,
   "id": "0b09a27f-d7b2-4bba-b2c3-2bd79bc21873",
   "metadata": {},
   "outputs": [],
   "source": [
    "trainData = pd.read_csv(\"trainingSet.csv\")"
   ]
  },
  {
   "cell_type": "code",
   "execution_count": 3,
   "id": "04647055-2651-4c23-b07d-11caa3cbd0f0",
   "metadata": {},
   "outputs": [],
   "source": [
    "testData = pd.read_csv(\"tweetsTest.csv\")"
   ]
  },
  {
   "cell_type": "code",
   "execution_count": 4,
   "id": "79e4c934-81af-4f29-9e04-134bafcae3e1",
   "metadata": {},
   "outputs": [
    {
     "data": {
      "text/html": [
       "<div>\n",
       "<style scoped>\n",
       "    .dataframe tbody tr th:only-of-type {\n",
       "        vertical-align: middle;\n",
       "    }\n",
       "\n",
       "    .dataframe tbody tr th {\n",
       "        vertical-align: top;\n",
       "    }\n",
       "\n",
       "    .dataframe thead th {\n",
       "        text-align: right;\n",
       "    }\n",
       "</style>\n",
       "<table border=\"1\" class=\"dataframe\">\n",
       "  <thead>\n",
       "    <tr style=\"text-align: right;\">\n",
       "      <th></th>\n",
       "      <th>id</th>\n",
       "      <th>label</th>\n",
       "      <th>tweet</th>\n",
       "    </tr>\n",
       "  </thead>\n",
       "  <tbody>\n",
       "    <tr>\n",
       "      <th>0</th>\n",
       "      <td>1</td>\n",
       "      <td>0</td>\n",
       "      <td>@user when a father is dysfunctional and is s...</td>\n",
       "    </tr>\n",
       "    <tr>\n",
       "      <th>1</th>\n",
       "      <td>2</td>\n",
       "      <td>0</td>\n",
       "      <td>@user @user thanks for #lyft credit i can't us...</td>\n",
       "    </tr>\n",
       "    <tr>\n",
       "      <th>2</th>\n",
       "      <td>3</td>\n",
       "      <td>0</td>\n",
       "      <td>bihday your majesty</td>\n",
       "    </tr>\n",
       "    <tr>\n",
       "      <th>3</th>\n",
       "      <td>4</td>\n",
       "      <td>0</td>\n",
       "      <td>#model   i love u take with u all the time in ...</td>\n",
       "    </tr>\n",
       "    <tr>\n",
       "      <th>4</th>\n",
       "      <td>5</td>\n",
       "      <td>0</td>\n",
       "      <td>factsguide: society now    #motivation</td>\n",
       "    </tr>\n",
       "  </tbody>\n",
       "</table>\n",
       "</div>"
      ],
      "text/plain": [
       "   id  label                                              tweet\n",
       "0   1      0   @user when a father is dysfunctional and is s...\n",
       "1   2      0  @user @user thanks for #lyft credit i can't us...\n",
       "2   3      0                                bihday your majesty\n",
       "3   4      0  #model   i love u take with u all the time in ...\n",
       "4   5      0             factsguide: society now    #motivation"
      ]
     },
     "execution_count": 4,
     "metadata": {},
     "output_type": "execute_result"
    }
   ],
   "source": [
    "trainData.head()"
   ]
  },
  {
   "cell_type": "code",
   "execution_count": 5,
   "id": "0c71397f-d5b6-44c5-8f17-6787ece6948d",
   "metadata": {},
   "outputs": [],
   "source": [
    "#Clean Train Dataset"
   ]
  },
  {
   "cell_type": "code",
   "execution_count": 6,
   "id": "da629256-96a8-4fe6-ae1d-5ff975fc836a",
   "metadata": {},
   "outputs": [],
   "source": [
    "trainDataClean = pd.DataFrame(trainData)"
   ]
  },
  {
   "cell_type": "code",
   "execution_count": 7,
   "id": "506bfc87-9e29-42b7-9f01-5062be7f3191",
   "metadata": {},
   "outputs": [
    {
     "data": {
      "text/html": [
       "<div>\n",
       "<style scoped>\n",
       "    .dataframe tbody tr th:only-of-type {\n",
       "        vertical-align: middle;\n",
       "    }\n",
       "\n",
       "    .dataframe tbody tr th {\n",
       "        vertical-align: top;\n",
       "    }\n",
       "\n",
       "    .dataframe thead th {\n",
       "        text-align: right;\n",
       "    }\n",
       "</style>\n",
       "<table border=\"1\" class=\"dataframe\">\n",
       "  <thead>\n",
       "    <tr style=\"text-align: right;\">\n",
       "      <th></th>\n",
       "      <th>id</th>\n",
       "      <th>label</th>\n",
       "      <th>tweet</th>\n",
       "    </tr>\n",
       "  </thead>\n",
       "  <tbody>\n",
       "    <tr>\n",
       "      <th>0</th>\n",
       "      <td>1</td>\n",
       "      <td>0</td>\n",
       "      <td>@user when a father is dysfunctional and is s...</td>\n",
       "    </tr>\n",
       "    <tr>\n",
       "      <th>1</th>\n",
       "      <td>2</td>\n",
       "      <td>0</td>\n",
       "      <td>@user @user thanks for #lyft credit i can't us...</td>\n",
       "    </tr>\n",
       "    <tr>\n",
       "      <th>2</th>\n",
       "      <td>3</td>\n",
       "      <td>0</td>\n",
       "      <td>bihday your majesty</td>\n",
       "    </tr>\n",
       "    <tr>\n",
       "      <th>3</th>\n",
       "      <td>4</td>\n",
       "      <td>0</td>\n",
       "      <td>#model   i love u take with u all the time in ...</td>\n",
       "    </tr>\n",
       "    <tr>\n",
       "      <th>4</th>\n",
       "      <td>5</td>\n",
       "      <td>0</td>\n",
       "      <td>factsguide: society now    #motivation</td>\n",
       "    </tr>\n",
       "  </tbody>\n",
       "</table>\n",
       "</div>"
      ],
      "text/plain": [
       "   id  label                                              tweet\n",
       "0   1      0   @user when a father is dysfunctional and is s...\n",
       "1   2      0  @user @user thanks for #lyft credit i can't us...\n",
       "2   3      0                                bihday your majesty\n",
       "3   4      0  #model   i love u take with u all the time in ...\n",
       "4   5      0             factsguide: society now    #motivation"
      ]
     },
     "execution_count": 7,
     "metadata": {},
     "output_type": "execute_result"
    }
   ],
   "source": [
    "trainDataClean.head()"
   ]
  },
  {
   "cell_type": "code",
   "execution_count": 8,
   "id": "a9b9cc9c-e80d-4410-a13e-66bc32676f74",
   "metadata": {},
   "outputs": [
    {
     "data": {
      "text/plain": [
       "31962"
      ]
     },
     "execution_count": 8,
     "metadata": {},
     "output_type": "execute_result"
    }
   ],
   "source": [
    "trainDataClean.shape[0]"
   ]
  },
  {
   "cell_type": "code",
   "execution_count": 9,
   "id": "ea52dde9-d064-4b5c-a6e5-cdc68c0175d5",
   "metadata": {},
   "outputs": [],
   "source": [
    "trainDataCl = []\n",
    "i = 0\n",
    "while i < trainDataClean.shape[0]:\n",
    "    trainDataCl.append([trainDataClean.iloc[i,0], trainDataClean.iloc[i,1], trainDataClean.iloc[i,2]])\n",
    "    i += 1\n",
    "\n",
    "trainDataCleaned = pd.DataFrame(trainDataCl)"
   ]
  },
  {
   "cell_type": "code",
   "execution_count": 10,
   "id": "6ed55ad1-7658-4ad9-9092-ce06442c8241",
   "metadata": {},
   "outputs": [
    {
     "data": {
      "text/html": [
       "<div>\n",
       "<style scoped>\n",
       "    .dataframe tbody tr th:only-of-type {\n",
       "        vertical-align: middle;\n",
       "    }\n",
       "\n",
       "    .dataframe tbody tr th {\n",
       "        vertical-align: top;\n",
       "    }\n",
       "\n",
       "    .dataframe thead th {\n",
       "        text-align: right;\n",
       "    }\n",
       "</style>\n",
       "<table border=\"1\" class=\"dataframe\">\n",
       "  <thead>\n",
       "    <tr style=\"text-align: right;\">\n",
       "      <th></th>\n",
       "      <th>0</th>\n",
       "      <th>1</th>\n",
       "      <th>2</th>\n",
       "    </tr>\n",
       "  </thead>\n",
       "  <tbody>\n",
       "    <tr>\n",
       "      <th>0</th>\n",
       "      <td>1</td>\n",
       "      <td>0</td>\n",
       "      <td>@user when a father is dysfunctional and is s...</td>\n",
       "    </tr>\n",
       "    <tr>\n",
       "      <th>1</th>\n",
       "      <td>2</td>\n",
       "      <td>0</td>\n",
       "      <td>@user @user thanks for #lyft credit i can't us...</td>\n",
       "    </tr>\n",
       "    <tr>\n",
       "      <th>2</th>\n",
       "      <td>3</td>\n",
       "      <td>0</td>\n",
       "      <td>bihday your majesty</td>\n",
       "    </tr>\n",
       "    <tr>\n",
       "      <th>3</th>\n",
       "      <td>4</td>\n",
       "      <td>0</td>\n",
       "      <td>#model   i love u take with u all the time in ...</td>\n",
       "    </tr>\n",
       "    <tr>\n",
       "      <th>4</th>\n",
       "      <td>5</td>\n",
       "      <td>0</td>\n",
       "      <td>factsguide: society now    #motivation</td>\n",
       "    </tr>\n",
       "  </tbody>\n",
       "</table>\n",
       "</div>"
      ],
      "text/plain": [
       "   0  1                                                  2\n",
       "0  1  0   @user when a father is dysfunctional and is s...\n",
       "1  2  0  @user @user thanks for #lyft credit i can't us...\n",
       "2  3  0                                bihday your majesty\n",
       "3  4  0  #model   i love u take with u all the time in ...\n",
       "4  5  0             factsguide: society now    #motivation"
      ]
     },
     "execution_count": 10,
     "metadata": {},
     "output_type": "execute_result"
    }
   ],
   "source": [
    "trainDataCleaned.head()"
   ]
  },
  {
   "cell_type": "code",
   "execution_count": 12,
   "id": "0b64c9c6-d726-412f-9cde-b98767857f8d",
   "metadata": {},
   "outputs": [
    {
     "data": {
      "text/html": [
       "<div>\n",
       "<style scoped>\n",
       "    .dataframe tbody tr th:only-of-type {\n",
       "        vertical-align: middle;\n",
       "    }\n",
       "\n",
       "    .dataframe tbody tr th {\n",
       "        vertical-align: top;\n",
       "    }\n",
       "\n",
       "    .dataframe thead th {\n",
       "        text-align: right;\n",
       "    }\n",
       "</style>\n",
       "<table border=\"1\" class=\"dataframe\">\n",
       "  <thead>\n",
       "    <tr style=\"text-align: right;\">\n",
       "      <th></th>\n",
       "      <th>0</th>\n",
       "      <th>1</th>\n",
       "      <th>2</th>\n",
       "    </tr>\n",
       "  </thead>\n",
       "  <tbody>\n",
       "    <tr>\n",
       "      <th>31957</th>\n",
       "      <td>31958</td>\n",
       "      <td>0</td>\n",
       "      <td>ate @user isz that youuu?ðððððð...</td>\n",
       "    </tr>\n",
       "    <tr>\n",
       "      <th>31958</th>\n",
       "      <td>31959</td>\n",
       "      <td>0</td>\n",
       "      <td>to see nina turner on the airwaves trying to...</td>\n",
       "    </tr>\n",
       "    <tr>\n",
       "      <th>31959</th>\n",
       "      <td>31960</td>\n",
       "      <td>0</td>\n",
       "      <td>listening to sad songs on a monday morning otw...</td>\n",
       "    </tr>\n",
       "    <tr>\n",
       "      <th>31960</th>\n",
       "      <td>31961</td>\n",
       "      <td>1</td>\n",
       "      <td>@user #sikh #temple vandalised in in #calgary,...</td>\n",
       "    </tr>\n",
       "    <tr>\n",
       "      <th>31961</th>\n",
       "      <td>31962</td>\n",
       "      <td>0</td>\n",
       "      <td>thank you @user for you follow</td>\n",
       "    </tr>\n",
       "  </tbody>\n",
       "</table>\n",
       "</div>"
      ],
      "text/plain": [
       "           0  1                                                  2\n",
       "31957  31958  0  ate @user isz that youuu?ðððððð...\n",
       "31958  31959  0    to see nina turner on the airwaves trying to...\n",
       "31959  31960  0  listening to sad songs on a monday morning otw...\n",
       "31960  31961  1  @user #sikh #temple vandalised in in #calgary,...\n",
       "31961  31962  0                   thank you @user for you follow  "
      ]
     },
     "execution_count": 12,
     "metadata": {},
     "output_type": "execute_result"
    }
   ],
   "source": [
    "trainDataCleaned.tail()"
   ]
  },
  {
   "cell_type": "code",
   "execution_count": 13,
   "id": "77a9340f-f1ff-4eb4-9b8b-578f6047d2b6",
   "metadata": {},
   "outputs": [],
   "source": [
    "#Clean Test Dataset"
   ]
  },
  {
   "cell_type": "code",
   "execution_count": 14,
   "id": "0b090182-edb5-4d09-a325-8bc87e4c11bd",
   "metadata": {},
   "outputs": [],
   "source": [
    "#testData.head()"
   ]
  },
  {
   "cell_type": "code",
   "execution_count": 15,
   "id": "db70184b-e78a-4b7a-9f87-8bb35bfd5b01",
   "metadata": {},
   "outputs": [],
   "source": [
    "# with open(\"tweetsTest.csv\") as r:\n",
    "    # readObj = csv.reader(r)\n",
    "    # next(readObj) \n",
    "    # cleanTweetsTest = []\n",
    "    # for row in readObj:\n",
    "        # cleanTweetsTest.append(row)"
   ]
  },
  {
   "cell_type": "code",
   "execution_count": 16,
   "id": "030a2fcb-cc22-416e-a881-0e18af96193e",
   "metadata": {},
   "outputs": [],
   "source": [
    "#cleanTweetsTest"
   ]
  },
  {
   "cell_type": "code",
   "execution_count": 17,
   "id": "0d461acc-1dd5-4cf1-b7f9-1a1fa72b5178",
   "metadata": {},
   "outputs": [],
   "source": [
    "testDataClean = pd.DataFrame(testData)"
   ]
  },
  {
   "cell_type": "code",
   "execution_count": 18,
   "id": "34bf2200-db2d-4a04-b6b0-c75769223e34",
   "metadata": {},
   "outputs": [
    {
     "data": {
      "text/plain": [
       "17197"
      ]
     },
     "execution_count": 18,
     "metadata": {},
     "output_type": "execute_result"
    }
   ],
   "source": [
    "testDataClean.shape[0]"
   ]
  },
  {
   "cell_type": "code",
   "execution_count": 19,
   "id": "17bd083d-e3b0-48b5-b6ad-417aeefe449a",
   "metadata": {},
   "outputs": [],
   "source": [
    "testDataCl = []\n",
    "i = 0\n",
    "while i < testDataClean.shape[0]:\n",
    "    testDataCl.append([testDataClean.iloc[i,0], testDataClean.iloc[i,1]])\n",
    "    i += 1\n",
    "\n",
    "testDataCleaned = pd.DataFrame(testDataCl)"
   ]
  },
  {
   "cell_type": "code",
   "execution_count": 20,
   "id": "014d0a3a-5450-4b83-966a-ae8aa2a8bd76",
   "metadata": {},
   "outputs": [
    {
     "data": {
      "text/html": [
       "<div>\n",
       "<style scoped>\n",
       "    .dataframe tbody tr th:only-of-type {\n",
       "        vertical-align: middle;\n",
       "    }\n",
       "\n",
       "    .dataframe tbody tr th {\n",
       "        vertical-align: top;\n",
       "    }\n",
       "\n",
       "    .dataframe thead th {\n",
       "        text-align: right;\n",
       "    }\n",
       "</style>\n",
       "<table border=\"1\" class=\"dataframe\">\n",
       "  <thead>\n",
       "    <tr style=\"text-align: right;\">\n",
       "      <th></th>\n",
       "      <th>0</th>\n",
       "      <th>1</th>\n",
       "    </tr>\n",
       "  </thead>\n",
       "  <tbody>\n",
       "    <tr>\n",
       "      <th>0</th>\n",
       "      <td>31963</td>\n",
       "      <td>#studiolife #aislife #requires #passion #dedic...</td>\n",
       "    </tr>\n",
       "    <tr>\n",
       "      <th>1</th>\n",
       "      <td>31964</td>\n",
       "      <td>@user #white #supremacists want everyone to s...</td>\n",
       "    </tr>\n",
       "    <tr>\n",
       "      <th>2</th>\n",
       "      <td>31965</td>\n",
       "      <td>safe ways to heal your #acne!!    #altwaystohe...</td>\n",
       "    </tr>\n",
       "    <tr>\n",
       "      <th>3</th>\n",
       "      <td>31966</td>\n",
       "      <td>is the hp and the cursed child book up for res...</td>\n",
       "    </tr>\n",
       "    <tr>\n",
       "      <th>4</th>\n",
       "      <td>31967</td>\n",
       "      <td>3rd #bihday to my amazing, hilarious #nephew...</td>\n",
       "    </tr>\n",
       "  </tbody>\n",
       "</table>\n",
       "</div>"
      ],
      "text/plain": [
       "       0                                                  1\n",
       "0  31963  #studiolife #aislife #requires #passion #dedic...\n",
       "1  31964   @user #white #supremacists want everyone to s...\n",
       "2  31965  safe ways to heal your #acne!!    #altwaystohe...\n",
       "3  31966  is the hp and the cursed child book up for res...\n",
       "4  31967    3rd #bihday to my amazing, hilarious #nephew..."
      ]
     },
     "execution_count": 20,
     "metadata": {},
     "output_type": "execute_result"
    }
   ],
   "source": [
    "testDataCleaned.head()"
   ]
  },
  {
   "cell_type": "code",
   "execution_count": 21,
   "id": "5aa021f9-140e-406f-a484-8de6cb4b617a",
   "metadata": {},
   "outputs": [
    {
     "data": {
      "text/html": [
       "<div>\n",
       "<style scoped>\n",
       "    .dataframe tbody tr th:only-of-type {\n",
       "        vertical-align: middle;\n",
       "    }\n",
       "\n",
       "    .dataframe tbody tr th {\n",
       "        vertical-align: top;\n",
       "    }\n",
       "\n",
       "    .dataframe thead th {\n",
       "        text-align: right;\n",
       "    }\n",
       "</style>\n",
       "<table border=\"1\" class=\"dataframe\">\n",
       "  <thead>\n",
       "    <tr style=\"text-align: right;\">\n",
       "      <th></th>\n",
       "      <th>0</th>\n",
       "      <th>1</th>\n",
       "    </tr>\n",
       "  </thead>\n",
       "  <tbody>\n",
       "    <tr>\n",
       "      <th>17192</th>\n",
       "      <td>49155</td>\n",
       "      <td>thought factory: left-right polarisation! #tru...</td>\n",
       "    </tr>\n",
       "    <tr>\n",
       "      <th>17193</th>\n",
       "      <td>49156</td>\n",
       "      <td>feeling like a mermaid ð #hairflip #neverre...</td>\n",
       "    </tr>\n",
       "    <tr>\n",
       "      <th>17194</th>\n",
       "      <td>49157</td>\n",
       "      <td>#hillary #campaigned today in #ohio((omg)) &amp;am...</td>\n",
       "    </tr>\n",
       "    <tr>\n",
       "      <th>17195</th>\n",
       "      <td>49158</td>\n",
       "      <td>happy, at work conference: right mindset leads...</td>\n",
       "    </tr>\n",
       "    <tr>\n",
       "      <th>17196</th>\n",
       "      <td>49159</td>\n",
       "      <td>my   song \"so glad\" free download!  #shoegaze ...</td>\n",
       "    </tr>\n",
       "  </tbody>\n",
       "</table>\n",
       "</div>"
      ],
      "text/plain": [
       "           0                                                  1\n",
       "17192  49155  thought factory: left-right polarisation! #tru...\n",
       "17193  49156  feeling like a mermaid ð #hairflip #neverre...\n",
       "17194  49157  #hillary #campaigned today in #ohio((omg)) &am...\n",
       "17195  49158  happy, at work conference: right mindset leads...\n",
       "17196  49159  my   song \"so glad\" free download!  #shoegaze ..."
      ]
     },
     "execution_count": 21,
     "metadata": {},
     "output_type": "execute_result"
    }
   ],
   "source": [
    "testDataCleaned.tail()"
   ]
  },
  {
   "cell_type": "code",
   "execution_count": 22,
   "id": "eb98ef5b-5371-4db2-9439-06b5c7292d3a",
   "metadata": {},
   "outputs": [],
   "source": [
    "#Data Preprocessing:\n",
    "#Tweet -> Lowercase\n",
    "#2 or more \".\" -> replace with space\n",
    "#URL\n",
    "#User mention"
   ]
  },
  {
   "cell_type": "code",
   "execution_count": 23,
   "id": "e609e4f5-9b2d-4e36-98bc-568adf9f655e",
   "metadata": {},
   "outputs": [],
   "source": [
    "# tweet column extracted from Training Data.\n",
    "# tweetTrain = trainDataCleaned[[2]]\n",
    "# tweetTrain.head()"
   ]
  },
  {
   "cell_type": "code",
   "execution_count": 24,
   "id": "f464bc0b-d0c9-41f9-a413-bbab7ec24080",
   "metadata": {},
   "outputs": [],
   "source": [
    "# tweetTrain.shape[0] # Checking the number of rows in the Tweet column"
   ]
  },
  {
   "cell_type": "code",
   "execution_count": 25,
   "id": "984b8e32-80a1-45fa-a6bc-ed7207989dbf",
   "metadata": {},
   "outputs": [],
   "source": [
    "# print(tweetTrain.iloc[3,0]) # Prints 4th entry in the Tweet column"
   ]
  },
  {
   "cell_type": "code",
   "execution_count": 26,
   "id": "9a7cd00b-dcb2-4f20-b8f2-15d3162bbaec",
   "metadata": {},
   "outputs": [],
   "source": [
    "# Converting tweets to lower case\n",
    "# tweetTrainList = []\n",
    "# i = 0\n",
    "# while i < tweetTrain.shape[0]:\n",
    "#     tweetTrainList.append(tweetTrain.iloc[i,0].lower()) # Converts each tweet to lower case and adds the lower case tweet to the array that was initially empty.\n",
    "#     i += 1\n",
    "# tweetTrainV1 = pd.DataFrame(tweetTrainList)"
   ]
  },
  {
   "cell_type": "code",
   "execution_count": 27,
   "id": "3e47d56a-5e95-430c-89e3-e50ffe5a9086",
   "metadata": {},
   "outputs": [],
   "source": [
    "# print(tweetTrainV1.shape[0])"
   ]
  },
  {
   "cell_type": "code",
   "execution_count": 28,
   "id": "74028537-441b-4e06-9f05-bd65249d1621",
   "metadata": {},
   "outputs": [],
   "source": [
    "# tweetTrainL1 = []\n",
    "# i = 0\n",
    "# while i < tweetTrainV1.shape[0]:\n",
    "#     tweetTrainL1.append(tweetTrainV1.iloc[i,0]) # Adds each tweet to the array, following first modification.\n",
    "#     i += 1\n",
    "# tweetTrainL1a = []\n",
    "# for element in tweetTrainL1: \n",
    "#     elem = re.sub(r'\\.\\.+',' ',element) # Substitutes 2+ dots w/ space\n",
    "#     tweetTrainL1a.append(elem) # Adds each modified tweet to the array.\n",
    "\n",
    "# tweetTrainV2 = pd.DataFrame(tweetTrainL1a)"
   ]
  },
  {
   "cell_type": "code",
   "execution_count": 29,
   "id": "58fd3296-5313-4d9a-aa2b-436de4b1305e",
   "metadata": {},
   "outputs": [],
   "source": [
    "# print(tweetTrainV2.iloc[31961,0])"
   ]
  },
  {
   "cell_type": "code",
   "execution_count": 30,
   "id": "1e991220-6943-4800-a3ae-54720d14254f",
   "metadata": {},
   "outputs": [],
   "source": [
    "# 2+ dots in each training tweet replaced w/ space"
   ]
  },
  {
   "cell_type": "code",
   "execution_count": 31,
   "id": "160030c4-429c-4c98-a8a6-4befdc21c31d",
   "metadata": {},
   "outputs": [],
   "source": [
    "# Replacing each URL in tweet training data w/ the word 'URL'."
   ]
  },
  {
   "cell_type": "code",
   "execution_count": 32,
   "id": "96e187e7-9f08-4110-99c3-8d9ca01eeb75",
   "metadata": {},
   "outputs": [],
   "source": [
    "# tweetTrainL2 = []\n",
    "# i = 0\n",
    "# while i < tweetTrainV2.shape[0]:\n",
    "#     tweetTrainL2.append(tweetTrainV2.iloc[i,0]) # Adds each tweet to the array, following first two modifications.\n",
    "#     i += 1\n",
    "# tweetTrainL2a = []\n",
    "# for element in tweetTrainL2:\n",
    "#     elem = re.sub(r'((www\\.[\\S]+)|(https?://[\\S]+))','URL',element) # Substitutes URLs w/ the term 'URL'\n",
    "#     tweetTrainL2a.append(elem) # Adds each modified tweet to the array.\n",
    "\n",
    "# tweetTrainV3 = pd.DataFrame(tweetTrainL2a)"
   ]
  },
  {
   "cell_type": "code",
   "execution_count": 33,
   "id": "af21caf6-7619-464a-8e34-7f1ae28f4785",
   "metadata": {},
   "outputs": [],
   "source": [
    "# print(tweetTrainV3.iloc[8484,0])"
   ]
  },
  {
   "cell_type": "code",
   "execution_count": 34,
   "id": "86bf7380-d910-4416-9a29-6c5cf43749b9",
   "metadata": {},
   "outputs": [],
   "source": [
    "# Replacing each user mention in tweet training data with the term 'USE"
   ]
  },
  {
   "cell_type": "code",
   "execution_count": 35,
   "id": "290c0c42-c9be-4065-a952-fc8dbe89cd7d",
   "metadata": {},
   "outputs": [],
   "source": [
    "# tweetTrainL3 = []\n",
    "# i = 0\n",
    "# while i < tweetTrainV3.shape[0]:\n",
    "#     tweetTrainL3.append(tweetTrainV3.iloc[i,0]) # Adds each tweet to the array, following first three modifications.\n",
    "#     i += 1\n",
    "# tweetTrainL3a = []\n",
    "# for element in tweetTrainL3:\n",
    "#     elem = re.sub(r'@[\\S]+','USER_MENTION',element) # Substitutes user mentions w/ the term 'USER_MENTION'\n",
    "#     tweetTrainL3a.append(elem) # Adds each modified tweet to the array.\n",
    "\n",
    "# tweetTrainV4 = pd.DataFrame(tweetTrainL3a) "
   ]
  },
  {
   "cell_type": "code",
   "execution_count": 36,
   "id": "055aae9a-8a5e-48de-b6a2-687aa430476f",
   "metadata": {},
   "outputs": [],
   "source": [
    "# print(tweetTrainV4.iloc[8695,0])"
   ]
  },
  {
   "cell_type": "code",
   "execution_count": 37,
   "id": "073ab2e1-e2d6-4b0e-9237-b3358a3a1eb0",
   "metadata": {},
   "outputs": [],
   "source": [
    "# print(tweetTrainV4.iloc[8660,0])"
   ]
  },
  {
   "cell_type": "code",
   "execution_count": 38,
   "id": "ab906ccd-9cbf-47ed-a926-9cf5c85bd8be",
   "metadata": {},
   "outputs": [],
   "source": [
    "# df1 = pd.read_fwf(io.StringIO(tweetString), colspecs='infer', widths="
   ]
  },
  {
   "cell_type": "code",
   "execution_count": 39,
   "id": "9a4a3f3e-94b1-4888-bf57-ee01612f2acc",
   "metadata": {},
   "outputs": [],
   "source": [
    "#Strip spaces and quotes (\"\" and '') from the ends of tweet."
   ]
  },
  {
   "cell_type": "code",
   "execution_count": 40,
   "id": "9fa005b0-aff7-4f74-921b-a6f48877aaa3",
   "metadata": {},
   "outputs": [],
   "source": [
    "tweetString = trainData.tweet.to_string()"
   ]
  },
  {
   "cell_type": "code",
   "execution_count": 41,
   "id": "308451b4-301e-4547-ae35-0f82adbd1e0e",
   "metadata": {},
   "outputs": [],
   "source": [
    "# def wordProcessing(a):\n",
    "#     a = re.sub(' +', ' ', a) #reduces 2 or more spaces into one space\n",
    "#     a = a.strip(' \"\\'') #removes quotes from the ends\n",
    "#     a = re.sub(r'#',\"\",a) #removes hash-symbol from hashtag\n",
    "#     a = re.sub(r'RT',\"\\b\",a)#removes RT from retweets\n",
    "#     a = re.sub(r'-',\"\",a) #removes -\n",
    "#     a = re.sub(r'\\'',\"\",a) #removes ' \n",
    "#     return a\n",
    "#     if a is None:\n",
    "#         a = str"
   ]
  },
  {
   "cell_type": "code",
   "execution_count": 42,
   "id": "77920c3d-e429-4378-ae8e-5b7266233400",
   "metadata": {},
   "outputs": [],
   "source": [
    "#Classifying emojis as positve or negative"
   ]
  },
  {
   "cell_type": "code",
   "execution_count": 43,
   "id": "d96939bb-6e9e-4277-8bde-16f74e2eef83",
   "metadata": {},
   "outputs": [],
   "source": [
    "def emojiHandler(a):\n",
    "    a = re.sub(r'(:\\s?\\)|:-\\)|\\(\\s?:|\\(-:|:\\'\\))', 'EMO_POS', a) #Smile-emoji\n",
    "    a = re.sub(r'(:\\s?D|:-D|x-?D|X-?D)', 'EMO_POS', a) #Laugh-emoji\n",
    "    a = re.sub(r'(<3|:\\*)' ,'EMO_POS', a) #Love-emoji\n",
    "    a = re.sub(r'(;-?\\)|;-?D|\\(-?;)' ,'EMO_POS', a) #Wink-emoji\n",
    "    a = re.sub(r'(:\\s?\\(|:-\\(|\\)\\s?:|\\)-:)' ,'EMO_NEG', a) #Sad-emoji\n",
    "    a = re.sub(r'(:,\\(|:\\'\\(|:\"\\()' ,'EMO_NEG', a) #Cry-emoji\n",
    "    return a"
   ]
  },
  {
   "cell_type": "code",
   "execution_count": 44,
   "id": "9207a899-9a22-4bf1-8801-3805002ea9a4",
   "metadata": {},
   "outputs": [],
   "source": [
    "def removePunctuation(s):\n",
    "    translator = str.maketrans('', '', sub('\\_', '', punctuation))\n",
    "    return s.translate(translator)\n",
    "    return repeatWords.sub(r\"\\1\\1\", s)"
   ]
  },
  {
   "cell_type": "code",
   "execution_count": 45,
   "id": "3cfd4897-61a9-4569-b686-e6e7f51fd9eb",
   "metadata": {},
   "outputs": [],
   "source": [
    "def removeExtraWords(s):\n",
    "    repeatWords = re.compile(r\"(.)\\1{2,}\", re.DOTALL) \n",
    "    return repeatWords.sub(r\"\\1\\1\", s)"
   ]
  },
  {
   "cell_type": "code",
   "execution_count": 46,
   "id": "a32caa81-5838-448f-ad57-ebfd02e32623",
   "metadata": {},
   "outputs": [],
   "source": [
    "#word-Validity\n",
    "range = \"abcdefghijklmnopqrstuvwxyzABCDEFGHIJKLMNOPQRSTUVWXYZ\"\n",
    "def wordValidity(s):\n",
    "    wordList = re.sub(\"[^\\w]\", \" \",  s).split()\n",
    "    length = len(wordList)\n",
    "    i = 0\n",
    "    newWordList = []\n",
    "#     print(i) \n",
    "    while i < length:\n",
    "        if wordList[i][0] in range:\n",
    "            newWordList.append(wordList[i])\n",
    "        i += 1\n",
    "    return ' '.join(newWordList)"
   ]
  },
  {
   "cell_type": "code",
   "execution_count": 47,
   "id": "d0d170f3-d994-4063-8e52-ca209a65e570",
   "metadata": {},
   "outputs": [],
   "source": [
    "# Extract tweet column.\n",
    "# Create a list containing the tweets.\n",
    "# Create a new list that will contain the modified tweets (following pre processing steps).\n",
    "# Execute all necessary pre processing steps to each tweet; add each modified tweet to the new list created in the previous step.\n",
    "# Cast this new list with the modified tweets to a DataFrame and save the DataFrame to a variable."
   ]
  },
  {
   "cell_type": "code",
   "execution_count": 48,
   "id": "61b05745-2d06-4d92-816e-0c3234c121f6",
   "metadata": {},
   "outputs": [],
   "source": [
    "def allPreprocessingSteps(a):\n",
    "    a = a.lower()\n",
    "    a = re.sub(r'\\.\\.+',' ',a)\n",
    "    a = a.strip('  \\'') #removes spaces from the ends \n",
    "    a = a.strip(' \"\\'') #removes quotes from the ends\n",
    "    a = re.sub(' +', ' ', a) #reduces 2 or more spaces into one space\n",
    "    a = re.sub(r'((www\\.[\\S]+)|(https?://[\\S]+))','URL',a)\n",
    "    a = re.sub(r'@[\\S]+','USER_MENTION',a)\n",
    "    a = emojiHandler(a)\n",
    "    a = re.sub(r'#',\"\",a) #removes hash-symbol from hashtag\n",
    "    a = re.sub(r'RT ','',a)#removes RT from retweets\n",
    "    a = removePunctuation(a) \n",
    "    a = removeExtraWords(a)\n",
    "    a = wordValidity(a)    \n",
    "    return a"
   ]
  },
  {
   "cell_type": "code",
   "execution_count": 49,
   "id": "4e85fc7c-b119-4f15-94d1-f83d89c4cb97",
   "metadata": {},
   "outputs": [],
   "source": [
    "def preProcessingTweets(column):\n",
    "    tweetTrain = column\n",
    "\n",
    "    tweetTrainList = []\n",
    "    i = 0\n",
    "    while i < tweetTrain.shape[0]:\n",
    "        tweetTrainList.append(tweetTrain.iloc[i,0]) \n",
    "        i += 1\n",
    "    tweetTrainL1a = []\n",
    "    for element in tweetTrainList: \n",
    "        elem = allPreprocessingSteps(element)\n",
    "        tweetTrainL1a.append(elem) \n",
    "\n",
    "    tweetTrainMod = pd.DataFrame(tweetTrainL1a)\n",
    "    \n",
    "    return tweetTrainMod"
   ]
  },
  {
   "cell_type": "code",
   "execution_count": 50,
   "id": "35d320d4-9f0c-4e7a-810a-5206b1715952",
   "metadata": {},
   "outputs": [],
   "source": [
    "# def otherModifications(a):\n",
    "#     a = a.lower()\n",
    "#     a = re.sub(r'\\.\\.+',' ',a)\n",
    "#     a = re.sub(r'((www\\.[\\S]+)|(https?://[\\S]+))','URL',a)\n",
    "#     a = re.sub(r'@[\\S]+','USER_MENTION',a)\n",
    "#     return a"
   ]
  },
  {
   "cell_type": "code",
   "execution_count": 51,
   "id": "0c58befe-ebea-4e66-9951-a77070816c4e",
   "metadata": {},
   "outputs": [],
   "source": [
    "# a = \"Heloo. this test..\"\n",
    "# otherModifications(a)"
   ]
  },
  {
   "cell_type": "code",
   "execution_count": 52,
   "id": "985fa61b-305f-48bf-bd3d-665821a9513d",
   "metadata": {},
   "outputs": [],
   "source": [
    "tweetTrainMod = preProcessingTweets(trainDataCleaned[[2]])"
   ]
  },
  {
   "cell_type": "code",
   "execution_count": 53,
   "id": "b3d8f7c8-1f1f-4bd9-9fab-d3167ddf4847",
   "metadata": {},
   "outputs": [],
   "source": [
    "tweetTestMod = preProcessingTweets(testDataCleaned[[1]])"
   ]
  },
  {
   "cell_type": "code",
   "execution_count": 55,
   "id": "ac8f5c48-0860-4a57-86d5-2204354d91ed",
   "metadata": {},
   "outputs": [],
   "source": [
    "pd.set_option('max_colwidth', 10000000000000000000000000000000000000000000000000000000)"
   ]
  },
  {
   "cell_type": "code",
   "execution_count": 56,
   "id": "94556030-5ebe-402a-8601-6cf19833f50c",
   "metadata": {},
   "outputs": [],
   "source": [
    "# testTweets = testDataCleaned[[1]]"
   ]
  },
  {
   "cell_type": "code",
   "execution_count": 57,
   "id": "5f2dae70-1977-4f3c-9da9-c4b725f1cad3",
   "metadata": {},
   "outputs": [],
   "source": [
    "#Write a function to convert all the data into CSV files."
   ]
  },
  {
   "cell_type": "code",
   "execution_count": 58,
   "id": "faa63639-c41b-49a5-b9d4-408f0bc8f204",
   "metadata": {},
   "outputs": [],
   "source": [
    "dfTrainPp1 = trainDataCleaned[[0,1]]\n",
    "tweetTrainProc = pd.concat([dfTrainPp1, tweetTrainMod], axis=1)"
   ]
  },
  {
   "cell_type": "code",
   "execution_count": 59,
   "id": "82c25805-1f40-4ae4-b61d-35e7e56540d5",
   "metadata": {},
   "outputs": [],
   "source": [
    "dfTestPp1 = testDataCleaned[[0]]\n",
    "tweetTestProc = pd.concat([dfTestPp1, tweetTestMod], axis=1)"
   ]
  },
  {
   "cell_type": "code",
   "execution_count": 60,
   "id": "7bb3282e-9b46-422c-86b0-1ca1547af78b",
   "metadata": {},
   "outputs": [],
   "source": [
    "# Converting clean and processed DataFrames to CSV files.\n",
    "\n",
    "tweetTrainProc.to_csv('train_processed.csv')"
   ]
  },
  {
   "cell_type": "code",
   "execution_count": 61,
   "id": "419836d2-d8d7-4610-81c2-ee38655eadd9",
   "metadata": {},
   "outputs": [],
   "source": [
    "tweetTestProc.to_csv('test_processed.csv')"
   ]
  },
  {
   "cell_type": "code",
   "execution_count": null,
   "id": "66fd6dd1-1426-45fd-906f-2db8b84ca7ae",
   "metadata": {},
   "outputs": [],
   "source": []
  }
 ],
 "metadata": {
  "kernelspec": {
   "display_name": "Python 3 (ipykernel)",
   "language": "python",
   "name": "python3"
  },
  "language_info": {
   "codemirror_mode": {
    "name": "ipython",
    "version": 3
   },
   "file_extension": ".py",
   "mimetype": "text/x-python",
   "name": "python",
   "nbconvert_exporter": "python",
   "pygments_lexer": "ipython3",
   "version": "3.10.4"
  }
 },
 "nbformat": 4,
 "nbformat_minor": 5
}
